{
 "cells": [
  {
   "cell_type": "markdown",
   "metadata": {},
   "source": [
    "# Setup Hacking VM\n",
    "- install virtualization tool\n",
    "    - VirtualBox (http://www.virtualbox.org)\n",
    "    - VMWare (https://www.vmware.com)\n",
    "- download pre-built virtual images of Kali Linux (x86): https://www.offensive-security.com/kali-linux-vm-vmware-virtualbox-image-download/"
   ]
  },
  {
   "cell_type": "markdown",
   "metadata": {},
   "source": [
    "## Install multilib for gcc and g++ \n",
    "- to be able to compile for 32 bit (x86) machine if using x64 (64 bit machine)"
   ]
  },
  {
   "cell_type": "code",
   "execution_count": 1,
   "metadata": {},
   "outputs": [
    {
     "name": "stdout",
     "output_type": "stream",
     "text": [
      "Linux kali 4.19.0-kali3-686-pae #1 SMP Debian 4.19.20-1kali1 (2019-02-14) i686 GNU/Linux\n"
     ]
    }
   ],
   "source": [
    "%%bash\n",
    "# check machine architecture\n",
    "uname -a"
   ]
  },
  {
   "cell_type": "code",
   "execution_count": null,
   "metadata": {},
   "outputs": [],
   "source": [
    "%%bash\n",
    "# do this only if you have x64 Linux VM\n",
    "sudo apt install -y gcc-multilib g++-multilib"
   ]
  },
  {
   "cell_type": "markdown",
   "metadata": {},
   "source": [
    "## Download hacking book source code\n",
    "- do go over various examples as explained in the hacking text book"
   ]
  },
  {
   "cell_type": "code",
   "execution_count": 2,
   "metadata": {},
   "outputs": [
    {
     "name": "stdout",
     "output_type": "stream",
     "text": [
      "00-Introduction.ipynb\n",
      "demo-programs\n",
      "DisableProtections.ipynb\n",
      "hacking\n",
      "HackingTools.ipynb\n",
      "LICENSE\n",
      "README.md\n",
      "SetupVM.ipynb\n",
      "untitled.txt\n"
     ]
    }
   ],
   "source": [
    "%%bash\n",
    "ls"
   ]
  },
  {
   "cell_type": "code",
   "execution_count": 3,
   "metadata": {},
   "outputs": [],
   "source": [
    "%%bash\n",
    "# download hacking repo if it doesn't exist\n",
    "if [ ! -d \"hacking\" ]; then\n",
    "    git clone https://github.com/intere/hacking.git\n",
    "fi"
   ]
  },
  {
   "cell_type": "code",
   "execution_count": null,
   "metadata": {},
   "outputs": [],
   "source": []
  }
 ],
 "metadata": {
  "kernelspec": {
   "display_name": "Python 3",
   "language": "python",
   "name": "python3"
  },
  "language_info": {
   "codemirror_mode": {
    "name": "ipython",
    "version": 3
   },
   "file_extension": ".py",
   "mimetype": "text/x-python",
   "name": "python",
   "nbconvert_exporter": "python",
   "pygments_lexer": "ipython3",
   "version": "3.7.1"
  }
 },
 "nbformat": 4,
 "nbformat_minor": 2
}
