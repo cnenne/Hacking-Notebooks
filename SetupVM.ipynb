{
 "cells": [
  {
   "cell_type": "markdown",
   "metadata": {},
   "source": [
    "# Setup Hacking VM\n",
    "- install virtualization tool\n",
    "    - VirtualBox (http://www.virtualbox.org)\n",
    "    - VMWare (https://www.vmware.com)\n",
    "- download pre-built virtual images of Kali Linux (x86): https://www.offensive-security.com/kali-linux-vm-vmware-virtualbox-image-download/"
   ]
  },
  {
   "cell_type": "markdown",
   "metadata": {},
   "source": [
    "## Install multilib for gcc and g++ \n",
    "- to be able to compile for 32 bit (x86) machine if using x64 (64 bit machine)"
   ]
  },
  {
   "cell_type": "code",
   "execution_count": 1,
   "metadata": {},
   "outputs": [
    {
     "name": "stdout",
     "output_type": "stream",
     "text": [
      "Linux kali 5.2.0-kali2-686-pae #1 SMP Debian 5.2.9-2kali1 (2019-08-22) i686 GNU/Linux\n"
     ]
    }
   ],
   "source": [
    "%%bash\n",
    "# check machine architecture\n",
    "uname -a"
   ]
  },
  {
   "cell_type": "code",
   "execution_count": null,
   "metadata": {},
   "outputs": [],
   "source": [
    "%%bash\n",
    "# do this only if you have x64 Linux VM\n",
    "apt install -y gcc-multilib g++-multilib"
   ]
  },
  {
   "cell_type": "markdown",
   "metadata": {},
   "source": [
    "## Download hacking LiveCD\n",
    "- https://nostarch.com/hackingCD\n",
    "- Hacking book comes with one\n",
    "\n",
    "## Hacking book source code\n",
    "- download the book source code do go over various examples as explained in the hacking text book\n",
    "- https://github.com/intere/hacking\n"
   ]
  },
  {
   "cell_type": "code",
   "execution_count": null,
   "metadata": {},
   "outputs": [],
   "source": []
  }
 ],
 "metadata": {
  "kernelspec": {
   "display_name": "Python 3",
   "language": "python",
   "name": "python3"
  },
  "language_info": {
   "codemirror_mode": {
    "name": "ipython",
    "version": 3
   },
   "file_extension": ".py",
   "mimetype": "text/x-python",
   "name": "python",
   "nbconvert_exporter": "python",
   "pygments_lexer": "ipython3",
   "version": "3.7.1"
  }
 },
 "nbformat": 4,
 "nbformat_minor": 2
}
