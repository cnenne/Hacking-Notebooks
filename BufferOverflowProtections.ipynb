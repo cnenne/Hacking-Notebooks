{
 "cells": [
  {
   "cell_type": "markdown",
   "metadata": {},
   "source": [
    "# Buffer Overflow Protections\n",
    "- modern kernel and compilers provide various proctections from bufferoverlow attacks"
   ]
  },
  {
   "cell_type": "markdown",
   "metadata": {},
   "source": [
    "### 1. ASLR - Address Space Layout Randomization (Kernel)\n",
    "- loads the stack, data and code in random memory locations making it difficult to guess their addresses\n",
    "### checking ASLR\n",
    "    - compile and run demo-programs/aslr.c program to check\n",
    "    - run gdb-peda and aslr command"
   ]
  },
  {
   "cell_type": "markdown",
   "metadata": {},
   "source": [
    "#### Check ASLR\n",
    "- various values:\n",
    "    - 0: disabled\n",
    "    - 1: enabled (excluding data segment)\n",
    "    - 2: enabled (including data segment)"
   ]
  },
  {
   "cell_type": "code",
   "execution_count": 5,
   "metadata": {},
   "outputs": [
    {
     "name": "stdout",
     "output_type": "stream",
     "text": [
      "2\n"
     ]
    }
   ],
   "source": [
    "%%bash\n",
    "sudo cat /proc/sys/kernel/randomize_va_space"
   ]
  },
  {
   "cell_type": "markdown",
   "metadata": {},
   "source": [
    "#### Set ASLR - Enable/Disable"
   ]
  },
  {
   "cell_type": "code",
   "execution_count": 6,
   "metadata": {},
   "outputs": [
    {
     "name": "stdout",
     "output_type": "stream",
     "text": [
      "0\n"
     ]
    }
   ],
   "source": [
    "%%bash\n",
    "echo 0 | sudo tee /proc/sys/kernel/randomize_va_space"
   ]
  },
  {
   "cell_type": "markdown",
   "metadata": {},
   "source": [
    "#### Allow ptrace processes\n",
    "**ptrace** - allows parent process to observe and control the execution of another process\n",
    "- used primarily to implement breakpoint debugging and system call tracing"
   ]
  },
  {
   "cell_type": "code",
   "execution_count": 7,
   "metadata": {},
   "outputs": [
    {
     "name": "stdout",
     "output_type": "stream",
     "text": [
      "kernel.yama.ptrace_scope = 0\n"
     ]
    }
   ],
   "source": [
    "%%bash\n",
    "# check the ptrace value\n",
    "sudo sysctl kernel.yama.ptrace_scope"
   ]
  },
  {
   "cell_type": "code",
   "execution_count": 8,
   "metadata": {},
   "outputs": [
    {
     "name": "stdout",
     "output_type": "stream",
     "text": [
      "kernel.yama.ptrace_scope = 0\n"
     ]
    }
   ],
   "source": [
    "%%bash\n",
    "# set the ptrace value\n",
    "sudo sysctl -w kernel.yama.ptrace_scope=0"
   ]
  },
  {
   "cell_type": "markdown",
   "metadata": {},
   "source": [
    "### 2. PIE\n",
    "- Position Independent Executable\n",
    "- randomizes Code segment base address\n",
    "- randomizes GOT (Global Offset Table for global data-variables) and PLT (Procedure Linkage Table)\n",
    "    - PLT addresses are fixed during  linking to load the libc.so library codes/functions\n",
    "    - shared libraries are position independent code (PIC); they don't know where they are being loaded\n",
    "- "
   ]
  },
  {
   "cell_type": "markdown",
   "metadata": {},
   "source": [
    "### 3. Executable Stack Protection (NX) also (DEP)\n",
    "- DEP - Data Execution Prevention\n",
    "- in newer gcc, programs must be compiled by disabling stack protector to execute code injected into stack\n",
    "- check executable stack:\n",
    "`$ readelf -l <filename>`\n",
    "- note the line: \n",
    "GNU_STACK      0x000000 0x00000000 0x00000000 0x00000 0x00000 RW  0x10\n",
    "RW \n",
    "- RW - Read and Write but not Executable\n",
    "- RWE - Read, Write, and Executable\n",
    "\n"
   ]
  },
  {
   "cell_type": "code",
   "execution_count": 11,
   "metadata": {},
   "outputs": [
    {
     "name": "stdout",
     "output_type": "stream",
     "text": [
      "  GNU_STACK      0x000000 0x00000000 0x00000000 0x00000 0x00000 RW  0x10\n"
     ]
    }
   ],
   "source": [
    "%%bash\n",
    "in=./demo-programs/hello.c\n",
    "out=./demo-programs/hello\n",
    "gcc -g -m32 -o $out $in \n",
    "\n",
    "readelf -l ./demo-programs/aslr | grep GNU_STACK"
   ]
  },
  {
   "cell_type": "markdown",
   "metadata": {},
   "source": [
    "#### enable RWX\n",
    "- compile the program using -z execstack switch of gcc"
   ]
  },
  {
   "cell_type": "code",
   "execution_count": 12,
   "metadata": {},
   "outputs": [
    {
     "name": "stdout",
     "output_type": "stream",
     "text": [
      "  GNU_STACK      0x000000 0x00000000 0x00000000 0x00000 0x00000 RWE 0x10\n"
     ]
    }
   ],
   "source": [
    "%%bash\n",
    "in=./demo-programs/hello.c\n",
    "out=./demo-programs/hello\n",
    "gcc -g -m32 -z execstack -o $out $in \n",
    "\n",
    "readelf -l $out | grep GNU_STACK"
   ]
  },
  {
   "cell_type": "markdown",
   "metadata": {},
   "source": [
    "### 4. Stack Canaries\n",
    "- \"canary in a coal mine\" to detect carbon monoxide by using a warm blooded animal like a bird\n",
    "- place a small random integer just before the stack return pointer\n",
    "    - if the value is overwritten/corrupted during the function call then there's a buffer overflow attempt\n",
    "- use **-fno-stack-protector** flag in gcc to disable canaries"
   ]
  },
  {
   "cell_type": "code",
   "execution_count": null,
   "metadata": {},
   "outputs": [],
   "source": []
  }
 ],
 "metadata": {
  "kernelspec": {
   "display_name": "Python 3",
   "language": "python",
   "name": "python3"
  },
  "language_info": {
   "codemirror_mode": {
    "name": "ipython",
    "version": 3
   },
   "file_extension": ".py",
   "mimetype": "text/x-python",
   "name": "python",
   "nbconvert_exporter": "python",
   "pygments_lexer": "ipython3",
   "version": "3.7.1"
  }
 },
 "nbformat": 4,
 "nbformat_minor": 2
}
