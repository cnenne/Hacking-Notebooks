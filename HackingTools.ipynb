{
 "cells": [
  {
   "cell_type": "markdown",
   "metadata": {},
   "source": [
    "# Useful Hacking Tools\n"
   ]
  },
  {
   "cell_type": "markdown",
   "metadata": {},
   "source": [
    "## Bash\n",
    "- /bin/bash or /bin/sh\n",
    "- Jupyter notebooks to learn bash: https://github.com/rambasnet/BashNotebooks"
   ]
  },
  {
   "cell_type": "markdown",
   "metadata": {},
   "source": [
    "## VS Code for 32-bit system\n",
    "- download 32 bit .deb file: https://code.visualstudio.com/download\n",
    "- install deb file using:\n",
    "    - `$ sudo dpkg -i *.deb` "
   ]
  },
  {
   "cell_type": "code",
   "execution_count": 11,
   "metadata": {},
   "outputs": [
    {
     "name": "stdout",
     "output_type": "stream",
     "text": [
      "hello world!\r\n"
     ]
    }
   ],
   "source": [
    "! /bin/bash -c 'echo \"hello world!\"'"
   ]
  },
  {
   "cell_type": "code",
   "execution_count": 12,
   "metadata": {},
   "outputs": [
    {
     "name": "stdout",
     "output_type": "stream",
     "text": [
      "hello world!\r\n"
     ]
    }
   ],
   "source": [
    "! /bin/sh -c 'echo \"hello world!\"'"
   ]
  },
  {
   "cell_type": "markdown",
   "metadata": {},
   "source": [
    "## Curl\n",
    "- https://www.computerhope.com/unix/curl.htm\n",
    "- `$curl options URL` \n",
    "- command line utility to transfer data from or to a server using various protocols such as (HTTP, HTTPS, FTP, TENLENT, SCP, FTPS, etc.)\n",
    "- can use it e.g., in TinyCore CTF level 2 (simple webpage with a cookie) and level 5 (Web service to post data)"
   ]
  },
  {
   "cell_type": "markdown",
   "metadata": {},
   "source": [
    "## Netcat (nc)\n",
    "- https://en.wikipedia.org/wiki/Netcat\n",
    "https://www.sans.org/security-resources/sec560/netcat_cheat_sheet_v1.pdf\n",
    "- nc - networking utility for reading from and writing to network connections using TCP or UDP\n",
    "- can be very useful to transfer file between computers with limited resources\n",
    "- e.g. TinyCoreCTF doens't have GUI to work with files so one can send files back-and-forth to a GUI supported Linux environment\n",
    "    - if you want to send file to TinyCore do the following:\n",
    "    - on Tinycore run netcat in listening mode:\n",
    "        - `$ nc -v -l -p [port] > filename` \n",
    "    - from Kali Linux send a file:\n",
    "        - `$ cat file | nc -v [tinycoreIP] [tinycorePort]`"
   ]
  },
  {
   "cell_type": "markdown",
   "metadata": {},
   "source": [
    "## Python2\n",
    "- Python2 is easier to write exploitcode with\n",
    "- similar to Python3\n",
    "- print is a statement\n",
    "    print \"hello world!\""
   ]
  },
  {
   "cell_type": "code",
   "execution_count": 14,
   "metadata": {},
   "outputs": [
    {
     "name": "stdout",
     "output_type": "stream",
     "text": [
      "hello world!\r\n"
     ]
    }
   ],
   "source": [
    "! python2 -c 'print \"hello world!\"'"
   ]
  },
  {
   "cell_type": "markdown",
   "metadata": {},
   "source": [
    "## Python3\n",
    "- Jupyter notebooks to learn python3: https://github.com/rambasnet/thinkpythonnotebooks"
   ]
  },
  {
   "cell_type": "code",
   "execution_count": 15,
   "metadata": {},
   "outputs": [
    {
     "name": "stdout",
     "output_type": "stream",
     "text": [
      "Hello World\r\n"
     ]
    }
   ],
   "source": [
    "! python3 -c 'print(\"Hello World\")'"
   ]
  },
  {
   "cell_type": "code",
   "execution_count": 16,
   "metadata": {},
   "outputs": [
    {
     "name": "stdout",
     "output_type": "stream",
     "text": [
      "/root/miniconda3/bin/python\r\n"
     ]
    }
   ],
   "source": [
    "! which python"
   ]
  },
  {
   "cell_type": "markdown",
   "metadata": {},
   "source": [
    "## Know your ASCII values"
   ]
  },
  {
   "cell_type": "code",
   "execution_count": 17,
   "metadata": {},
   "outputs": [
    {
     "name": "stdout",
     "output_type": "stream",
     "text": [
      "ASCII(7)                   Linux Programmer's Manual                  ASCII(7)\r\n",
      "\r\n",
      "N\bNA\bAM\bME\bE\r\n",
      "       ascii - ASCII character set encoded in octal, decimal, and hexadecimal\r\n",
      "\r\n",
      "D\bDE\bES\bSC\bCR\bRI\bIP\bPT\bTI\bIO\bON\bN\r\n",
      "       ASCII is the American Standard Code for Information Interchange.  It is\r\n",
      "       a 7-bit code.  Many 8-bit codes (e.g., ISO  8859-1)  contain  ASCII  as\r\n",
      "       their  lower  half.  The international counterpart of ASCII is known as\r\n",
      "       ISO 646-IRV.\r\n",
      "\r\n",
      "       The following table contains the 128 ASCII characters.\r\n",
      "\r\n",
      "       C program '\\X' escapes are noted.\r\n",
      "\r\n",
      "       Oct   Dec   Hex   Char                        Oct   Dec   Hex   Char\r\n",
      "       ────────────────────────────────────────────────────────────────────────\r\n",
      "       000   0     00    NUL '\\0' (null character)   100   64    40    @\r\n",
      "       001   1     01    SOH (start of heading)      101   65    41    A\r\n",
      "       002   2     02    STX (start of text)         102   66    42    B\r\n",
      "       003   3     03    ETX (end of text)           103   67    43    C\r\n",
      "       004   4     04    EOT (end of transmission)   104   68    44    D\r\n",
      "       005   5     05    ENQ (enquiry)               105   69    45    E\r\n",
      "       006   6     06    ACK (acknowledge)           106   70    46    F\r\n",
      "       007   7     07    BEL '\\a' (bell)             107   71    47    G\r\n",
      "       010   8     08    BS  '\\b' (backspace)        110   72    48    H\r\n",
      "       011   9     09    HT  '\\t' (horizontal tab)   111   73    49    I\r\n",
      "       012   10    0A    LF  '\\n' (new line)         112   74    4A    J\r\n",
      "       013   11    0B    VT  '\\v' (vertical tab)     113   75    4B    K\r\n",
      "       014   12    0C    FF  '\\f' (form feed)        114   76    4C    L\r\n",
      "       015   13    0D    CR  '\\r' (carriage ret)     115   77    4D    M\r\n",
      "       016   14    0E    SO  (shift out)             116   78    4E    N\r\n",
      "       017   15    0F    SI  (shift in)              117   79    4F    O\r\n",
      "       020   16    10    DLE (data link escape)      120   80    50    P\r\n",
      "       021   17    11    DC1 (device control 1)      121   81    51    Q\r\n",
      "       022   18    12    DC2 (device control 2)      122   82    52    R\r\n",
      "       023   19    13    DC3 (device control 3)      123   83    53    S\r\n",
      "       024   20    14    DC4 (device control 4)      124   84    54    T\r\n",
      "       025   21    15    NAK (negative ack.)         125   85    55    U\r\n",
      "       026   22    16    SYN (synchronous idle)      126   86    56    V\r\n",
      "       027   23    17    ETB (end of trans. blk)     127   87    57    W\r\n",
      "       030   24    18    CAN (cancel)                130   88    58    X\r\n",
      "       031   25    19    EM  (end of medium)         131   89    59    Y\r\n",
      "       032   26    1A    SUB (substitute)            132   90    5A    Z\r\n",
      "       033   27    1B    ESC (escape)                133   91    5B    [\r\n",
      "       034   28    1C    FS  (file separator)        134   92    5C    \\  '\\\\'\r\n",
      "       035   29    1D    GS  (group separator)       135   93    5D    ]\r\n",
      "       036   30    1E    RS  (record separator)      136   94    5E    ^\r\n",
      "       037   31    1F    US  (unit separator)        137   95    5F    _\r\n",
      "       040   32    20    SPACE                       140   96    60    `\r\n",
      "       041   33    21    !                           141   97    61    a\r\n",
      "       042   34    22    \"                           142   98    62    b\r\n",
      "       043   35    23    #                           143   99    63    c\r\n",
      "       044   36    24    $                           144   100   64    d\r\n",
      "       045   37    25    %                           145   101   65    e\r\n",
      "       046   38    26    &                           146   102   66    f\r\n",
      "       047   39    27    '                           147   103   67    g\r\n",
      "       050   40    28    (                           150   104   68    h\r\n",
      "       051   41    29    )                           151   105   69    i\r\n",
      "       052   42    2A    *                           152   106   6A    j\r\n",
      "       053   43    2B    +                           153   107   6B    k\r\n",
      "       054   44    2C    ,                           154   108   6C    l\r\n",
      "       055   45    2D    -                           155   109   6D    m\r\n",
      "\r\n",
      "       056   46    2E    .                           156   110   6E    n\r\n",
      "       057   47    2F    /                           157   111   6F    o\r\n",
      "       060   48    30    0                           160   112   70    p\r\n",
      "       061   49    31    1                           161   113   71    q\r\n",
      "       062   50    32    2                           162   114   72    r\r\n",
      "       063   51    33    3                           163   115   73    s\r\n",
      "       064   52    34    4                           164   116   74    t\r\n",
      "       065   53    35    5                           165   117   75    u\r\n",
      "       066   54    36    6                           166   118   76    v\r\n",
      "       067   55    37    7                           167   119   77    w\r\n",
      "       070   56    38    8                           170   120   78    x\r\n",
      "       071   57    39    9                           171   121   79    y\r\n",
      "       072   58    3A    :                           172   122   7A    z\r\n",
      "       073   59    3B    ;                           173   123   7B    {\r\n",
      "       074   60    3C    <                           174   124   7C    |\r\n",
      "       075   61    3D    =                           175   125   7D    }\r\n",
      "       076   62    3E    >                           176   126   7E    ~\r\n",
      "       077   63    3F    ?                           177   127   7F    DEL\r\n",
      "\r\n",
      "   T\bTa\bab\bbl\ble\bes\bs\r\n",
      "       For convenience, below are more compact tables in hex and decimal.\r\n",
      "\r\n",
      "          2 3 4 5 6 7       30 40 50 60 70 80 90 100 110 120\r\n",
      "        -------------      ---------------------------------\r\n",
      "       0:   0 @ P ` p     0:    (  2  <  F  P  Z  d   n   x\r\n",
      "       1: ! 1 A Q a q     1:    )  3  =  G  Q  [  e   o   y\r\n",
      "       2: \" 2 B R b r     2:    *  4  >  H  R  \\  f   p   z\r\n",
      "       3: # 3 C S c s     3: !  +  5  ?  I  S  ]  g   q   {\r\n",
      "       4: $ 4 D T d t     4: \"  ,  6  @  J  T  ^  h   r   |\r\n",
      "       5: % 5 E U e u     5: #  -  7  A  K  U  _  i   s   }\r\n",
      "       6: & 6 F V f v     6: $  .  8  B  L  V  `  j   t   ~\r\n",
      "       7: ' 7 G W g w     7: %  /  9  C  M  W  a  k   u  DEL\r\n",
      "       8: ( 8 H X h x     8: &  0  :  D  N  X  b  l   v\r\n",
      "       9: ) 9 I Y i y     9: '  1  ;  E  O  Y  c  m   w\r\n",
      "       A: * : J Z j z\r\n",
      "       B: + ; K [ k {\r\n",
      "       C: , < L \\ l |\r\n",
      "       D: - = M ] m }\r\n",
      "       E: . > N ^ n ~\r\n",
      "       F: / ? O _ o DEL\r\n",
      "\r\n",
      "N\bNO\bOT\bTE\bES\bS\r\n",
      "   H\bHi\bis\bst\bto\bor\bry\by\r\n",
      "       An a\bas\bsc\bci\bii\bi manual page appeared in Version 7 of AT&T UNIX.\r\n",
      "\r\n",
      "       On older terminals, the underscore code is displayed as a  left  arrow,\r\n",
      "       called  backarrow, the caret is displayed as an up-arrow and the verti‐\r\n",
      "       cal bar has a hole in the middle.\r\n",
      "\r\n",
      "       Uppercase and lowercase characters differ by just one bit and the ASCII\r\n",
      "       character  2  differs from the double quote by just one bit, too.  That\r\n",
      "       made it much easier to encode characters mechanically or with a non-mi‐\r\n",
      "       crocontroller-based  electronic  keyboard and that pairing was found on\r\n",
      "       old teletypes.\r\n",
      "\r\n",
      "       The ASCII standard was published by the United States of America  Stan‐\r\n",
      "       dards Institute (USASI) in 1968.\r\n",
      "\r\n",
      "S\bSE\bEE\bE A\bAL\bLS\bSO\bO\r\n",
      "       c\bch\bha\bar\brs\bse\bet\bts\bs(7),     i\bis\bso\bo_\b_8\b88\b85\b59\b9-\b-1\b1(7),     i\bis\bso\bo_\b_8\b88\b85\b59\b9-\b-1\b10\b0(7),     i\bis\bso\bo_\b_8\b88\b85\b59\b9-\b-1\b11\b1(7),\r\n",
      "       i\bis\bso\bo_\b_8\b88\b85\b59\b9-\b-1\b13\b3(7),   i\bis\bso\bo_\b_8\b88\b85\b59\b9-\b-1\b14\b4(7),    i\bis\bso\bo_\b_8\b88\b85\b59\b9-\b-1\b15\b5(7),    i\bis\bso\bo_\b_8\b88\b85\b59\b9-\b-1\b16\b6(7),\r\n",
      "       i\bis\bso\bo_\b_8\b88\b85\b59\b9-\b-2\b2(7),     i\bis\bso\bo_\b_8\b88\b85\b59\b9-\b-3\b3(7),     i\bis\bso\bo_\b_8\b88\b85\b59\b9-\b-4\b4(7),     i\bis\bso\bo_\b_8\b88\b85\b59\b9-\b-5\b5(7),\r\n",
      "       i\bis\bso\bo_\b_8\b88\b85\b59\b9-\b-6\b6(7), i\bis\bso\bo_\b_8\b88\b85\b59\b9-\b-7\b7(7), i\bis\bso\bo_\b_8\b88\b85\b59\b9-\b-8\b8(7), i\bis\bso\bo_\b_8\b88\b85\b59\b9-\b-9\b9(7), u\but\btf\bf-\b-8\b8(7)\r\n",
      "\r\n",
      "C\bCO\bOL\bLO\bOP\bPH\bHO\bON\bN\r\n",
      "       This page is part of release 5.02 of the Linux  _\bm_\ba_\bn_\b-_\bp_\ba_\bg_\be_\bs  project.   A\r\n",
      "       description  of  the project, information about reporting bugs, and the\r\n",
      "       latest    version    of    this    page,    can     be     found     at\r\n",
      "       https://www.kernel.org/doc/man-pages/.\r\n",
      "\r\n",
      "Linux                             2016-10-08                          ASCII(7)\r\n"
     ]
    }
   ],
   "source": [
    "! man ascii"
   ]
  },
  {
   "cell_type": "code",
   "execution_count": 7,
   "metadata": {},
   "outputs": [
    {
     "name": "stdout",
     "output_type": "stream",
     "text": [
      "Hello World! Bye World!\r\n"
     ]
    }
   ],
   "source": [
    "! python -c 'print(\"\\x48ello World\\x21\", \"\\x42ye World!\")'"
   ]
  },
  {
   "cell_type": "code",
   "execution_count": 8,
   "metadata": {},
   "outputs": [
    {
     "name": "stdout",
     "output_type": "stream",
     "text": [
      "-B-C-D-B-C-D-B-C-D\r\n"
     ]
    }
   ],
   "source": [
    "! python3 -c 'print(\"-\\x42-\\x43-\\x44\"*3)'"
   ]
  },
  {
   "cell_type": "markdown",
   "metadata": {},
   "source": [
    "## Perl\n",
    "- yet another scripting language: https://www.perl.org"
   ]
  },
  {
   "cell_type": "code",
   "execution_count": 9,
   "metadata": {
    "scrolled": true
   },
   "outputs": [
    {
     "name": "stdout",
     "output_type": "stream",
     "text": [
      "ABCefABCefABCefABCefABCefABCefABCefABCefABCefABCef"
     ]
    }
   ],
   "source": [
    "! perl -e 'print \"ABC\\x65\\x66\"x10'"
   ]
  },
  {
   "cell_type": "markdown",
   "metadata": {},
   "source": [
    "## GCC and G++ Compilers and build tools\n",
    "- https://packages.ubuntu.com/xenial/build-essential"
   ]
  },
  {
   "cell_type": "code",
   "execution_count": null,
   "metadata": {
    "scrolled": false
   },
   "outputs": [],
   "source": [
    "! sudo apt install -y build-essential"
   ]
  },
  {
   "cell_type": "code",
   "execution_count": 10,
   "metadata": {},
   "outputs": [
    {
     "name": "stdout",
     "output_type": "stream",
     "text": [
      "Using built-in specs.\r\n",
      "COLLECT_GCC=gcc\r\n",
      "COLLECT_LTO_WRAPPER=/usr/lib/gcc/i686-linux-gnu/9/lto-wrapper\r\n",
      "Target: i686-linux-gnu\r\n",
      "Configured with: ../src/configure -v --with-pkgversion='Debian 9.2.1-25' --with-bugurl=file:///usr/share/doc/gcc-9/README.Bugs --enable-languages=c,ada,c++,go,brig,d,fortran,objc,obj-c++,gm2 --prefix=/usr --with-gcc-major-version-only --program-suffix=-9 --program-prefix=i686-linux-gnu- --enable-shared --enable-linker-build-id --libexecdir=/usr/lib --without-included-gettext --enable-threads=posix --libdir=/usr/lib --enable-nls --enable-bootstrap --enable-clocale=gnu --enable-libstdcxx-debug --enable-libstdcxx-time=yes --with-default-libstdcxx-abi=new --enable-gnu-unique-object --disable-vtable-verify --enable-plugin --enable-default-pie --with-system-zlib --with-target-system-zlib=auto --enable-objc-gc=auto --enable-targets=all --enable-multiarch --disable-werror --with-arch-32=i686 --with-multilib-list=m32,m64,mx32 --enable-multilib --with-tune=generic --enable-checking=release --build=i686-linux-gnu --host=i686-linux-gnu --target=i686-linux-gnu --with-build-config=bootstrap-lto-lean --enable-link-mutex\r\n",
      "Thread model: posix\r\n",
      "gcc version 9.2.1 20200123 (Debian 9.2.1-25) \r\n"
     ]
    }
   ],
   "source": [
    "! gcc -v"
   ]
  },
  {
   "cell_type": "markdown",
   "metadata": {},
   "source": [
    "## Compiling with gcc for x86 system in x64\n",
    "- use -m32 switch with gcc or g++\n",
    "- `gcc -m32 -o output input.c` "
   ]
  },
  {
   "cell_type": "markdown",
   "metadata": {},
   "source": [
    "## Assembly for x86\n",
    "- Guide to x86 Assembly: http://www.cs.virginia.edu/~evans/cs216/guides/x86.html"
   ]
  },
  {
   "cell_type": "markdown",
   "metadata": {},
   "source": [
    "## GDB - GNU Debugger\n",
    "- cheatsheet: http://www.yolinux.com/TUTORIALS/GDB-Commands.html\n",
    "- [GDB & Peda Notebook](./GDB-Peda.ipynb)"
   ]
  },
  {
   "cell_type": "markdown",
   "metadata": {},
   "source": [
    "## PEDA - Python Exploit Development Assistance\n",
    "- wrapper for GDB with extra features\n",
    "- https://github.com/longld/peda\n",
    "- [GDB & Peda Notebook](/.GDB-Peda.ipynb)"
   ]
  },
  {
   "cell_type": "code",
   "execution_count": null,
   "metadata": {},
   "outputs": [],
   "source": []
  }
 ],
 "metadata": {
  "kernelspec": {
   "display_name": "Python 3",
   "language": "python",
   "name": "python3"
  },
  "language_info": {
   "codemirror_mode": {
    "name": "ipython",
    "version": 3
   },
   "file_extension": ".py",
   "mimetype": "text/x-python",
   "name": "python",
   "nbconvert_exporter": "python",
   "pygments_lexer": "ipython3",
   "version": "3.7.1"
  }
 },
 "nbformat": 4,
 "nbformat_minor": 2
}
