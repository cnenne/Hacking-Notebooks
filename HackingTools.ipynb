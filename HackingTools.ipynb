{
 "cells": [
  {
   "cell_type": "markdown",
   "metadata": {},
   "source": [
    "# Useful Hacking Tools\n",
    "\n",
    "## Python2\n",
    "- Python2 is easier to write exploitcode with\n",
    "- similar to Python3\n",
    "- print is a statement\n",
    "    print \"hello world!\"\n",
    "\n",
    "## Python3\n",
    "- Jupyter notebooks to learn python3: https://github.com/rambasnet/thinkpythonnotebooks\n",
    "\n",
    "## Bash\n",
    "- /bin/bash or /bin/sh\n",
    "- Jupyter notebooks to learn bash: https://github.com/rambasnet/BashNotebooks\n",
    "\n",
    "## Netcat (nc)\n",
    "- https://en.wikipedia.org/wiki/Netcat\n",
    "https://www.sans.org/security-resources/sec560/netcat_cheat_sheet_v1.pdf\n",
    "- nc - networking utility for reading from and writing to network connections using TCP or UDP\n",
    "- can be very useful to transfer file between computers with limited resources\n",
    "- e.g. TinyCoreCTF doens't have GUI to work with files so one can send files back-and-forth to a GUI supported Linux environment\n",
    "    - if you want to send file to TinyCore do the following:\n",
    "    - on Tinycore run netcat in listening mode:\n",
    "        - `$ nc -l -s [tinycoreIP] -p [port] > filename` \n",
    "    - from Kali Linux send a file:\n",
    "        - `$nc [tinycoreIP] -p [tinycorePort] < file`"
   ]
  },
  {
   "cell_type": "code",
   "execution_count": null,
   "metadata": {},
   "outputs": [],
   "source": []
  }
 ],
 "metadata": {
  "kernelspec": {
   "display_name": "Python 3",
   "language": "python",
   "name": "python3"
  },
  "language_info": {
   "codemirror_mode": {
    "name": "ipython",
    "version": 3
   },
   "file_extension": ".py",
   "mimetype": "text/x-python",
   "name": "python",
   "nbconvert_exporter": "python",
   "pygments_lexer": "ipython3",
   "version": "3.7.1"
  }
 },
 "nbformat": 4,
 "nbformat_minor": 2
}
