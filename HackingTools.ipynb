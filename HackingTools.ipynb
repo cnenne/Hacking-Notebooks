{
 "cells": [
  {
   "cell_type": "markdown",
   "metadata": {},
   "source": [
    "# Useful Hacking Tools\n",
    "\n",
    "## Python2\n",
    "- Python2 is easier to write exploitcode with\n",
    "- similar to Python3\n",
    "- print is a statement\n",
    "    print \"hello world!\"\n",
    "\n",
    "## Python3\n",
    "- Jupyter notebooks to learn python3: https://github.com/rambasnet/thinkpythonnotebooks\n",
    "\n",
    "\n",
    "## Bash\n",
    "- /bin/bash or /bin/sh\n",
    "- Jupyter notebooks to learn bash: https://github.com/rambasnet/BashNotebooks"
   ]
  },
  {
   "cell_type": "markdown",
   "metadata": {},
   "source": [
    "## GCC and G++ Compilers and build tools\n",
    "- https://packages.ubuntu.com/xenial/build-essential"
   ]
  },
  {
   "cell_type": "code",
   "execution_count": 2,
   "metadata": {
    "scrolled": false
   },
   "outputs": [
    {
     "name": "stdout",
     "output_type": "stream",
     "text": [
      "Reading package lists... Done\n",
      "Building dependency tree       \n",
      "Reading state information... Done\n",
      "build-essential is already the newest version (12.5).\n",
      "build-essential set to manually installed.\n",
      "The following packages were automatically installed and are no longer required:\n",
      "  acccheck couchdb dissy erlang17-asn1 erlang17-base erlang17-crypto\n",
      "  erlang17-eunit erlang17-inets erlang17-mnesia erlang17-os-mon\n",
      "  erlang17-public-key erlang17-runtime-tools erlang17-snmp erlang17-ssl\n",
      "  erlang17-syntax-tools erlang17-tools erlang17-webtool erlang17-xmerl\n",
      "  gir1.2-networkmanager-1.0 gir1.2-nmgtk-1.0 glusterfs-common guile-2.0-libs\n",
      "  keepnote libacl1-dev libappindicator1 libarmadillo7 libattr1-dev\n",
      "  libavahi-gobject0 libavfilter6 libavformat57 libavresample3\n",
      "  libbabeltrace-ctf1 libbind9-141 libbind9-160 libboost-atomic1.62.0\n",
      "  libboost-chrono1.62.0 libboost-date-time1.62.0 libboost-filesystem1.62.0\n",
      "  libboost-iostreams1.62.0 libboost-program-options1.62.0\n",
      "  libboost-program-options1.67.0 libboost-random1.62.0\n",
      "  libboost-serialization1.62.0 libboost-serialization1.67.0\n",
      "  libboost-test1.62.0 libboost-test1.67.0 libboost-timer1.62.0\n",
      "  libboost-timer1.67.0 libcaf-openmpi-3 libcaribou-gtk-module\n",
      "  libcaribou-gtk3-module libcdio-cdda1 libcdio-paranoia1 libcdio13 libcdio17\n",
      "  libcephfs1 libcgal12 libcgal13 libchamplain-0.12-0 libcharls1 libcharls2\n",
      "  libcoarrays-openmpi-dev libcue1 libdbusmenu-gtk4 libdee-1.0-4\n",
      "  libdigest-md5-file-perl libdns-export169 libdns169 libdns190\n",
      "  libedata-cal-1.2-28 libedataserverui-1.2-1 libenca0 libevent-2.0-5\n",
      "  libexempi3 libfabric1 libfcgi-bin libfcgi0ldbl libfile-copy-recursive-perl\n",
      "  libfolks-telepathy25 libfreerdp-cache1.1 libfreerdp-client1.1\n",
      "  libfreerdp-codec1.1 libfreerdp-common1.1.0 libfreerdp-core1.1\n",
      "  libfreerdp-crypto1.1 libfreerdp-gdi1.1 libfreerdp-locale1.1\n",
      "  libfreerdp-primitives1.1 libfreerdp-utils1.1 libgail-3-0 libgcr-3-common\n",
      "  libgdcm2.8 libgeos-3.5.1 libgeos-3.6.2 libgfchangelog0 libgfdb0 libgfortran4\n",
      "  libgl2ps1.4 libglusterfs-dev libgmime-3.0-0 libgtk2-perl libhdf5-openmpi-100\n",
      "  libhttp-parser2.1 libhttp-parser2.7.1 libhttp-server-simple-perl\n",
      "  libhunspell-1.6-0 libhwloc-dev libibverbs-dev libical2 libicu-le-hb0\n",
      "  libicu60 libilmbase12 libindicator7 libirs160 libisc-export166 libisc166\n",
      "  libisc189 libisccc140 libisccc160 libisccfg144 libisccfg160 libisl15\n",
      "  libjs-excanvas libjs-jquery-form libjs-openlayers liblept5 liblouis14\n",
      "  liblvm2app2.2 liblvm2cmd2.02 liblwgeom-2.4-0 liblwgeom-2.5-0 liblwgeom-dev\n",
      "  liblwres141 liblwres160 libmagickcore-6.q16-3 libmagickcore-6.q16-3-extra\n",
      "  libmagickwand-6.q16-3 libmozjs185-1.0 libmpfr4 libnetcdf-c++4 libnetcdf11\n",
      "  libnfs8 libnl-3-dev libnl-route-3-dev libnm-glib4 libnm-gtk0 libnm-util2\n",
      "  libntfs-3g872 libntfs-3g88 libnuma-dev libopencv-calib3d3.2\n",
      "  libopencv-contrib3.2 libopencv-core3.2 libopencv-features2d3.2\n",
      "  libopencv-flann3.2 libopencv-highgui3.2 libopencv-imgcodecs3.2\n",
      "  libopencv-imgproc3.2 libopencv-ml3.2 libopencv-objdetect3.2\n",
      "  libopencv-photo3.2 libopencv-shape3.2 libopencv-stitching3.2\n",
      "  libopencv-superres3.2 libopencv-video3.2 libopencv-videoio3.2\n",
      "  libopencv-videostab3.2 libopencv-viz3.2 libopenexr22 libopenmpi-dev\n",
      "  libopenmpi2 libopenmpi3 libpango-perl libpmix2 libpoppler68 libpostproc54\n",
      "  libprotobuf-lite10 libprotobuf10 libpsm-infinipath1 libpyside1.2\n",
      "  libpython3.6 libpython3.6-dev libpython3.6-minimal libpython3.6-stdlib\n",
      "  libqca2 libqca2-plugins libqcustomplot1.3 libqgis-analysis2.14.22\n",
      "  libqgis-analysis2.18.25 libqgis-analysis2.18.28 libqgis-core2.14.20\n",
      "  libqgis-core2.14.22 libqgis-core2.18.25 libqgis-core2.18.28\n",
      "  libqgis-customwidgets libqgis-gui2.14.22 libqgis-gui2.18.25\n",
      "  libqgis-gui2.18.28 libqgis-networkanalysis2.14.20\n",
      "  libqgis-networkanalysis2.14.22 libqgis-networkanalysis2.18.25\n",
      "  libqgis-networkanalysis2.18.28 libqgis-server2.14.22 libqgis-server2.18.25\n",
      "  libqgis-server2.18.28 libqgispython2.14.20 libqgispython2.14.22\n",
      "  libqgispython2.18.25 libqgispython2.18.28 libqtwebkit4 libqwt5-qt4\n",
      "  libqwt6abi1 libradare2-2.0 libradare2-2.1 librdmacm1 libruby2.3 libsctp1\n",
      "  libsfcgal1 libshiboken1.2v5 libsocket++1 libsodium18 libspatialindex4v5\n",
      "  libspatialindex5 libsrtp0 libswscale4 libsynctex1 libtbb2 libtcl8.5\n",
      "  libtelepathy-glib0 libtesseract-data libtesseract3 libtesseract4 libtk8.5\n",
      "  libtxc-dxtn-s2tc libvtk6.3 libwayland-egl1-mesa libwinpr-crt0.1\n",
      "  libwinpr-crypto0.1 libwinpr-dsparse0.1 libwinpr-environment0.1\n",
      "  libwinpr-file0.1 libwinpr-handle0.1 libwinpr-heap0.1 libwinpr-input0.1\n",
      "  libwinpr-interlocked0.1 libwinpr-library0.1 libwinpr-path0.1\n",
      "  libwinpr-pool0.1 libwinpr-registry0.1 libwinpr-rpc0.1 libwinpr-sspi0.1\n",
      "  libwinpr-synch0.1 libwinpr-sysinfo0.1 libwinpr-thread0.1 libwinpr-utils0.1\n",
      "  libwireshark10 libwiretap7 libwscodecs1 libwsutil8 libwww-mechanize-perl\n",
      "  libx264-148 libx265-130 libxerces-c3.1 libxfont1 libzeitgeist-2.0-0\n",
      "  linux-image-4.13.0-kali1-686-pae linux-image-4.14.0-kali3-686-pae magictree\n",
      "  openmpi-bin openmpi-common php7.0-mysql php7.2-mysql python-anyjson\n",
      "  python-appindicator python-backports.ssl-match-hostname python-beautifulsoup\n",
      "  python-brotli python-capstone python-couchdbkit python-cssutils\n",
      "  python-cycler python-functools32 python-http-parser python-httpretty\n",
      "  python-imaging python-jwt python-kiwisolver python-matplotlib\n",
      "  python-matplotlib2-data python-nassl python-owslib python-pam python-ply\n",
      "  python-pycryptodome python-pyproj python-pyside.qtcore python-pyside.qtgui\n",
      "  python-pyside.qtnetwork python-pyside.qtwebkit python-pysmi python-pysnmp4\n",
      "  python-pysnmp4-apps python-pysnmp4-mibs python-pyspatialite python-qgis\n",
      "  python-qgis-common python-qt4-sql python-restkit python-rsvg python-shapely\n",
      "  python-socketpool python-subprocess32 python3-argcomplete python3-argh\n",
      "  python3-construct python3-cssutils python3-editorconfig python3-feedparser\n",
      "  python3-flask python3-html2text python3-itsdangerous python3-jsbeautifier\n",
      "  python3-jwt python3-pathtools python3-prettytable python3-pyinotify\n",
      "  python3-simplejson python3-watchdog python3-werkzeug python3.6 python3.6-dev\n",
      "  python3.6-minimal qt4-designer readpst ruby-faraday ruby2.3 ruby2.3-dev\n",
      "  smitools tk8.5 x11proto-dri2-dev x11proto-gl-dev zeitgeist-core\n",
      "Use 'sudo apt autoremove' to remove them.\n",
      "0 upgraded, 0 newly installed, 0 to remove and 272 not upgraded.\n"
     ]
    }
   ],
   "source": [
    "! sudo apt install -y build-essential"
   ]
  },
  {
   "cell_type": "markdown",
   "metadata": {},
   "source": [
    "## Download and install VS Code 32-bit system\n",
    "- download 32 bit .deb file: https://code.visualstudio.com/download\n",
    "- install deb file using:\n",
    "    - `$ sudo dpkg -i *.deb` "
   ]
  },
  {
   "cell_type": "markdown",
   "metadata": {},
   "source": [
    "## Tinycore Capture The Flag (CTF)\n",
    "- Download and install as a VM: - https://janosgyerik.github.io/capture-the-flag/\n",
    "- Based on Strip CTF: https://stripe.com/blog/capture-the-flag\n",
    "- Level 5 readme correction:\n",
    "    - Webservice is at prot 8005 not at 9020 as the motd.txt file says\n",
    "    - `$curl localhost:8005 -d \"hello there\"`"
   ]
  },
  {
   "cell_type": "markdown",
   "metadata": {},
   "source": [
    "## Netcat (nc)\n",
    "- https://en.wikipedia.org/wiki/Netcat\n",
    "https://www.sans.org/security-resources/sec560/netcat_cheat_sheet_v1.pdf\n",
    "- nc - networking utility for reading from and writing to network connections using TCP or UDP\n",
    "- can be very useful to transfer file between computers with limited resources\n",
    "- e.g. TinyCoreCTF doens't have GUI to work with files so one can send files back-and-forth to a GUI supported Linux environment\n",
    "    - if you want to send file to TinyCore do the following:\n",
    "    - on Tinycore run netcat in listening mode:\n",
    "        - `$ nc -l -s [tinycoreIP] -p [port] > filename` \n",
    "    - from Kali Linux send a file:\n",
    "        - `$nc [tinycoreIP] -p [tinycorePort] < file`"
   ]
  },
  {
   "cell_type": "markdown",
   "metadata": {},
   "source": [
    "## GDB - GNU Debugger\n",
    "- cheatsheet: http://www.yolinux.com/TUTORIALS/GDB-Commands.html"
   ]
  },
  {
   "cell_type": "code",
   "execution_count": null,
   "metadata": {},
   "outputs": [],
   "source": []
  }
 ],
 "metadata": {
  "kernelspec": {
   "display_name": "Python 3",
   "language": "python",
   "name": "python3"
  },
  "language_info": {
   "codemirror_mode": {
    "name": "ipython",
    "version": 3
   },
   "file_extension": ".py",
   "mimetype": "text/x-python",
   "name": "python",
   "nbconvert_exporter": "python",
   "pygments_lexer": "ipython3",
   "version": "3.7.1"
  }
 },
 "nbformat": 4,
 "nbformat_minor": 2
}
