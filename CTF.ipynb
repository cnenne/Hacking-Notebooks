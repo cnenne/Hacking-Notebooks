{
 "cells": [
  {
   "cell_type": "markdown",
   "metadata": {},
   "source": [
    "# Capture The Flag (CTF)"
   ]
  },
  {
   "cell_type": "markdown",
   "metadata": {},
   "source": [
    "## Tinycore Capture The Flag (CTF)\n",
    "- Download and install as a VM: - https://ctf-o-matic.github.io/capture-the-flag/\n",
    "- Based on Strip CTF: https://stripe.com/blog/capture-the-flag\n",
    "- Level 5 readme correction:\n",
    "    - Webservice is running at port 8005 not at 9020 as the motd.txt description says\n",
    "    - `$curl localhost:8005 -d \"hello there\"`\n",
    "- Hints: https://github.com/dividuum/stripe-ctf"
   ]
  },
  {
   "cell_type": "code",
   "execution_count": null,
   "metadata": {},
   "outputs": [],
   "source": []
  }
 ],
 "metadata": {
  "kernelspec": {
   "display_name": "Python 3",
   "language": "python",
   "name": "python3"
  },
  "language_info": {
   "codemirror_mode": {
    "name": "ipython",
    "version": 3
   },
   "file_extension": ".py",
   "mimetype": "text/x-python",
   "name": "python",
   "nbconvert_exporter": "python",
   "pygments_lexer": "ipython3",
   "version": "3.7.1"
  }
 },
 "nbformat": 4,
 "nbformat_minor": 2
}
