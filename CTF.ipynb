{
 "cells": [
  {
   "cell_type": "markdown",
   "metadata": {},
   "source": [
    "# Capture The Flag (CTF)"
   ]
  },
  {
   "cell_type": "markdown",
   "metadata": {},
   "source": [
    "## Tinycore Capture The Flag (CTF)\n",
    "- Download and install as a VM: - https://ctf-o-matic.github.io/capture-the-flag/\n",
    "- Based on Strip CTF: https://stripe.com/blog/capture-the-flag\n",
    "- Level 5 readme correction:\n",
    "    - Webservice is running at port 8005 not at 9020 as the motd.txt description says\n",
    "    - `$curl localhost:8005 -d \"hello there\"`\n",
    "- Hints: https://github.com/dividuum/stripe-ctf\n",
    "- Learn about Tinycore Linux: [http://tinycorelinux.net/intro.html](http://tinycorelinux.net/intro.html)\n",
    "- Has 6 levels\n",
    "\n",
    "### level00@box has two files: motd.txt and tools.txt\n",
    "- cat tools.txt to get some general ideas about the tools and technqiues\n",
    "- motd.txt describes about TinyCore CTF and the information on what to do to get to the next level\n",
    "\n",
    "### Installing apps and tools - Use Tiny Core Extension: Application Browser\n",
    "- Let's say you want to install gcc; first switch to `tc` user\n",
    "```bash\n",
    "$ su tc\n",
    "$ tce \n",
    "```\n",
    "- search for: compile\n",
    "- install compiletc package which installs everything to compile using gcc\n",
    "\n",
    "### Now compile level01.c program\n",
    "- how to edit? Use vi or nano\n",
    "- or locally edit and upload using Netcat\n",
    "\n",
    "## Netcat (nc)\n",
    "- https://en.wikipedia.org/wiki/Netcat\n",
    "https://www.sans.org/security-resources/sec560/netcat_cheat_sheet_v1.pdf\n",
    "- nc - networking utility for reading from and writing to network connections using TCP or UDP\n",
    "- can be very useful to transfer file between computers with limited resources\n",
    "- e.g. TinyCoreCTF doens't have GUI to work with files so one can send files back-and-forth to a GUI supported Linux environment\n",
    "    - if you want to send file to TinyCore do the following:\n",
    "    - on Tinycore run netcat in listening mode:\n",
    "        - `$ nc -v -l -p [port] > filename` \n",
    "    - from Kali Linux send a file:\n",
    "        - `$ cat file | nc -v [tinycoreIP] [tinycorePort]`"
   ]
  },
  {
   "cell_type": "markdown",
   "metadata": {},
   "source": [
    "## Hints\n",
    "- see all the levels\n",
    "```bash\n",
    "$ cd /levels\n",
    "```"
   ]
  },
  {
   "cell_type": "markdown",
   "metadata": {},
   "source": [
    "### level00\n",
    "- nothing to do here; but just be familiar with the CTF\n",
    "- password (izeecahd) is in /home/level00/.password\n",
    "```bash\n",
    "$ cd /levels/level00\n",
    "$ cat /home/level00/.password\n",
    "```\n",
    "- this folder is empty"
   ]
  },
  {
   "cell_type": "markdown",
   "metadata": {},
   "source": [
    "### level01\n",
    "- create a program that can read the password/flag for level01 user\n",
    "- use levels/level01 files to make it happen\n",
    "- password (aepeefoo) is in /home/level01/.password\n",
    "- see the contents of level01\n",
    "```bash\n",
    "$ cd /levels/level01/\n",
    "```"
   ]
  },
  {
   "cell_type": "markdown",
   "metadata": {},
   "source": [
    "### level02\n",
    "- web-based vulnerability\n",
    "- password (quemaosh) is in /home/level02/.password file\n",
    "- force the webserver to read the password file and display the content as response\n",
    "- see the contents of /levels/level02/ folder\n",
    "```bash\n",
    "$ curl http://localhost:8002\n",
    "$ less /levels/level02/level02.py\n",
    "$ curl --cookie \"some_cookie=value\" http://localhost:8002\n",
    "```\n",
    "- can use browser from host to interact with the form\n",
    "- http://[ip]:8002/\n",
    "- use cookie editor plugin for chrome or proxy tool such as owasp zap or burpuite that come with Kali"
   ]
  },
  {
   "cell_type": "markdown",
   "metadata": {},
   "source": [
    "### level03\n",
    "- password (eingaima) for level03 is in /home/level03/.password file\n",
    "- files in /levels/level03 may be useful\n",
    "- binary level03 provides some functionalites to work with some string\n",
    "\n",
    "```bash\n",
    "$ cd /levels/level03\n",
    "$ ls\n",
    "$ ./level03\n",
    "$ ./level03 0 \"hello world\"\n",
    "\n",
    "```\n",
    "- negative index?\n",
    "- carefully read level03.c file\n",
    "- fns is array of function addresses, find the offset of depricated run function\n",
    "- pass it with proper offset to get the run function to execute\n",
    "- use gdb or write a script to bruteforce it!"
   ]
  },
  {
   "cell_type": "code",
   "execution_count": null,
   "metadata": {},
   "outputs": [],
   "source": []
  }
 ],
 "metadata": {
  "kernelspec": {
   "display_name": "Python 3",
   "language": "python",
   "name": "python3"
  },
  "language_info": {
   "codemirror_mode": {
    "name": "ipython",
    "version": 3
   },
   "file_extension": ".py",
   "mimetype": "text/x-python",
   "name": "python",
   "nbconvert_exporter": "python",
   "pygments_lexer": "ipython3",
   "version": "3.7.1"
  }
 },
 "nbformat": 4,
 "nbformat_minor": 2
}
