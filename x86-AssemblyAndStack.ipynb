{
 "cells": [
  {
   "cell_type": "markdown",
   "metadata": {},
   "source": [
    "# x86 Systems, Assembly and Stack\n",
    "http://www.cs.virginia.edu/~evans/cs216/guides/x86.html"
   ]
  },
  {
   "cell_type": "markdown",
   "metadata": {
    "slideshow": {
     "slide_type": "slide"
    }
   },
   "source": [
    "## x86 Processor\n",
    "- modern 80x86 (x=1, 2, 3, 4) have several registers\n",
    "- in gdb, `info registers` command shows all general purpose registers\n",
    "- little-endian architecture\n",
    "    - 4 bytes values are stored in reverse order (least significant byte is stored first)\n",
    "    - ABCD is stored as DCBA\n",
    "\n",
    "## Registers\n",
    "- variables to the CPU\n",
    "- 8 32-bit general-purpose registers\n",
    "- **EAX, ECX, EDX and EBX** are general-purpose registers\n",
    "    - Accumulator, Counter, Data and Base respectively\n",
    "    - used for a variety of purposes\n",
    "    - act as variables while instructions are executing\n",
    "- **ESP and EBP** are pointers\n",
    "    - Stack Pointer, Base Pointer, Source Index and Destination Index, respectively\n",
    "    - ESP and EBP store 32-bit addresses (point to location in memory)\n",
    "    - ESP always points to the top of the stack\n",
    "    - EBP acts as the base address (point of reference) for accessing local variables and parameters\n",
    "- **ESI and EDI** are indexes\n",
    "    - technically pointers used to point to the source and destination when data is being copied\n",
    "\n",
    "### EIP register\n",
    "- Instruction Pointer register\n",
    "- points to the current instruction the processor is reading\n",
    "- very important pointer and will be used a lot while debugging\n",
    "\n",
    "### EFLAGS\n",
    "- EFLAGS registers contain bit flags used for comparisons and memory segmentations (stack, heap, data, bss, etc.)\n",
    "- we'll ignore these as they're rarely accessed"
   ]
  },
  {
   "cell_type": "markdown",
   "metadata": {},
   "source": [
    "## Assembly Language\n",
    "\n",
    "### Intel Instruction Syntax:\n",
    "```\n",
    "operation <destination>, <source>\n",
    "```\n",
    "- destination and source values are either a register, a memory address, or a value\n",
    "- the operations are usually intuitive mnemonics\n",
    "\n",
    "- **mov**: operation will move a value from the source to the destination\n",
    "    - mov ebp, esp\n",
    "        - move the value from ESP to EBP\n",
    "- **push**: places its operand onto the top of the stack\n",
    "    - decrements ESP by 4 (stack grows towards lower address)\n",
    "    - place the contents at that location\n",
    "    - `push <reg>`\n",
    "    - `push <mem>`\n",
    "- **pop**: remove 4-byte data element from the top of the stack\n",
    "    - move the top of the stack to a specified register or memory location\n",
    "    - increments ESP by 4\n",
    "    - `pop <reg32>`\n",
    "    - `pop <mem>`\n",
    "\n",
    "- **cal, ret**: subroutine call and return\n",
    "\n",
    "- sub, add, cmp, jmp, and, or, xor, inc, etc."
   ]
  },
  {
   "cell_type": "markdown",
   "metadata": {},
   "source": [
    "## Calling Convention and Stack\n",
    "- local variables, parameters, return address and many other values are pushed on to the stack when function is called\n",
    "- let's say we've a C function\n",
    "```c\n",
    "void function(int arg1, int arg2, int arg3) {\n",
    "    int variable1, variable2, variable3;\n",
    "    // other code\n",
    "}\n",
    "```\n",
    "\n",
    "## caller rules\n",
    "```c\n",
    "function(10, 20, 30);\n",
    "```\n",
    "\n",
    "1. save contents of certain registers (EAX, ECX, EDX)\n",
    "    - values are pushed on to the stack if they're needed and restored upon return\n",
    "- pass parameters to the subroutine (function)\n",
    "    - push them on to the stack before the call\n",
    "    - parameters are pushed in inverted order (i.e. last parameter first)\n",
    "    - the first parameter is stored at the lowest address\n",
    "        - technique allows to pass variable number of parameters\n",
    "- push the return address to the top of the parameters\n",
    "- use the `call` instruction to call the function at the location\n",
    "\n",
    "\n",
    "## callee rules\n",
    "1. push the EBP (value of the caller) on to the stack\n",
    "\n",
    "```\n",
    "push ebp\n",
    "mov ebp, esp\n",
    "```\n",
    "2. push the local variables\n",
    "- allocate local variables by pushing them on to the stack top to bottom \n",
    "- last local variable will be at -4 offset\n",
    "\n",
    "## Note: return address of the caller is at EBP + 4\n",
    "<img src=\"./resources/stack-convention.png\">"
   ]
  },
  {
   "cell_type": "markdown",
   "metadata": {},
   "source": [
    "## Install peda - gdb wrapper\n",
    "- configure gdbinit file to use intel syntax and peda\n",
    "- see [GDB-Peda.ipynb](GDB-Peda.ipynb)\n",
    "\n",
    "### use booksrc/stack_example.c \n",
    "- to see stack and learn about gdb and peda\n",
    "- use compile.sh script to compile the proram\n",
    "\n",
    "#### Some common tasks to do and look for\n",
    "- break somewhere in the program (usually main)\n",
    "- list - list 10 lines of high level codes\n",
    "- disassemble into assembly code\n",
    "    - notice call and address\n",
    "- see call address\n",
    "- break main\n",
    "- disass main\n",
    "- disass test_function\n",
    "- notice the push instructions before the function call\n",
    "- step through the program (setp i) to to setp one instruction at a time (step into the function)\n",
    "- next i (step through instruction skipping function call\n",
    "- see the stack when you're inside test_function\n",
    "- examine stack to see the return value\n",
    "- examine local variables\n",
    "- examine parameters"
   ]
  },
  {
   "cell_type": "code",
   "execution_count": null,
   "metadata": {},
   "outputs": [],
   "source": []
  }
 ],
 "metadata": {
  "kernelspec": {
   "display_name": "Python 3",
   "language": "python",
   "name": "python3"
  },
  "language_info": {
   "codemirror_mode": {
    "name": "ipython",
    "version": 3
   },
   "file_extension": ".py",
   "mimetype": "text/x-python",
   "name": "python",
   "nbconvert_exporter": "python",
   "pygments_lexer": "ipython3",
   "version": "3.7.1"
  }
 },
 "nbformat": 4,
 "nbformat_minor": 2
}
