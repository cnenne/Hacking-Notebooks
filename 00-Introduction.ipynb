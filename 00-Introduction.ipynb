{
 "cells": [
  {
   "cell_type": "markdown",
   "metadata": {},
   "source": [
    "# System and Network Exploitation 101\n",
    "## Table of Contents\n",
    "- **[Setup Hacking VM](./SetupVM.ipynb)**<br>\n",
    "- **[Hacking Tools](./HackingTools.ipynb)** <br>\n",
    "- **[Bash Fundamentals](https://github.com/rambasnet/BashNotebooks)**<br>\n",
    "- **[C Fundamentals](https://github.com/rambasnet/CFundamentals)**<br>\n",
    "- **[Capture The Flag](./CTF.ipynb)** <br>\n",
    "- **[ELF Binary Format](./ELF.ipynb)**<br>\n",
    "- **[Buffer Overflow Protections](./BufferOverflowProtections.ipynb)**<br>"
   ]
  },
  {
   "cell_type": "code",
   "execution_count": null,
   "metadata": {},
   "outputs": [],
   "source": []
  }
 ],
 "metadata": {
  "kernelspec": {
   "display_name": "Python 3",
   "language": "python",
   "name": "python3"
  },
  "language_info": {
   "codemirror_mode": {
    "name": "ipython",
    "version": 3
   },
   "file_extension": ".py",
   "mimetype": "text/x-python",
   "name": "python",
   "nbconvert_exporter": "python",
   "pygments_lexer": "ipython3",
   "version": "3.7.2"
  }
 },
 "nbformat": 4,
 "nbformat_minor": 2
}
