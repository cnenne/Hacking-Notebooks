{
 "cells": [
  {
   "cell_type": "markdown",
   "metadata": {},
   "source": [
    "# Fast and Easy Hacking with Armitage\n",
    "- the script-kidddy way!\n",
    "- http://www.fastandeasyhacking.com/\n",
    "\n",
    "## Setup Tools and Netowork\n",
    "### Create a hacking system\n",
    "1. Download Kali 64-bit (32-bit has stopped working for me!)\n",
    "    - Armitage tool used for fast and easy hacking comes with Kali\n",
    "\n",
    "### Create a victim network/system\n",
    "- NOTE metasploitable are deliberately vulnerable systems created for pen-testing and testing exploits for metasploit\n",
    "- Do not expose these systems to the Internet and keep 'em shut when not using\n",
    "\n",
    "1. Metaspolitable 2 as a VM\n",
    "    - https://metasploit.help.rapid7.com/docs/metasploitable-2\n",
    "    - There's an ISO you can download and install as a VM\n",
    "2. Metasploitable 3 as a VM\n",
    "    - https://github.com/rapid7/metasploitable3\n",
    "    - Needs to build \n",
    "3. A Windows VM preferably order sytem such as Win XP-SP2 or Win 2008 server \n",
    "\n",
    "### Hackaway...\n",
    "\n",
    "1. Run Kali and the Victim VMs\n",
    "2. Find IP addresses of all the VMs and make sure they can talk to each other\n",
    "    - ping from Kali each victim VMs\n",
    "3. Run Armitage\n",
    "4. Clear database if you see existing hosts\n",
    "5. Add hosts one by one\n",
    "6. Run comprehensive scan from Hosts -> Nmap Scans\n",
    "7. Find attacks for each host under Attacks\n",
    "8. Pick and launch each attack\n",
    "9. Run Hail Mary under Attacks\n",
    "10. Once the system is successfully compromised, you'll see a jotining symbol\n",
    "11. Interact with each pawned system"
   ]
  },
  {
   "cell_type": "code",
   "execution_count": null,
   "metadata": {},
   "outputs": [],
   "source": []
  }
 ],
 "metadata": {
  "kernelspec": {
   "display_name": "Python 3",
   "language": "python",
   "name": "python3"
  },
  "language_info": {
   "codemirror_mode": {
    "name": "ipython",
    "version": 3
   },
   "file_extension": ".py",
   "mimetype": "text/x-python",
   "name": "python",
   "nbconvert_exporter": "python",
   "pygments_lexer": "ipython3",
   "version": "3.7.1"
  }
 },
 "nbformat": 4,
 "nbformat_minor": 2
}
