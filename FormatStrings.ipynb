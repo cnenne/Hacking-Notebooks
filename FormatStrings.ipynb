{
 "cells": [
  {
   "cell_type": "markdown",
   "metadata": {},
   "source": [
    "# Format Strings\n",
    "http://www.cplusplus.com/reference/cstdio/printf/?kw=printf\n",
    "\n",
    "- `printf()` in C/C++ can be used to print fixed strings, variables in many different formats\n",
    "- the following program uses `printf()` incorrectly!\n",
    "- \"Hello World\\n\" string technically is the format string (devoid of special escape sequences called format parameters)\n",
    "- format parameters begins with a `%` sign; for each format parameter (%) function expects arguments\n",
    "- format specifier follows this prototype:\n",
    "`%[flags][width][.precision][length]specifier`\n",
    "\n",
    "- following parameter requires values as arguments\n",
    "\n",
    "| Parameter | Output Type |\n",
    "| --- | --- |\n",
    "| %d | Decimal |\n",
    "| %u | Unsigned decimal |\n",
    "| %x | Hexadecimal |\n",
    "\n",
    "- the following parameters expect pointers as arguments\n",
    "\n",
    "| Parameter | Output Type |\n",
    "| --- | --- |\n",
    "| %s | String |\n",
    "| %n | Number of bytes written so far |\n",
    "| %p | Memory address |"
   ]
  },
  {
   "cell_type": "code",
   "execution_count": 2,
   "metadata": {},
   "outputs": [
    {
     "name": "stdout",
     "output_type": "stream",
     "text": [
      "Hello World!\n"
     ]
    }
   ],
   "source": [
    "#include <stdio.h>\n",
    "\n",
    "int main() {\n",
    "    printf(\"Hello World!\\n\");\n",
    "    return 0;\n",
    "}"
   ]
  },
  {
   "cell_type": "code",
   "execution_count": 6,
   "metadata": {},
   "outputs": [
    {
     "name": "stdout",
     "output_type": "stream",
     "text": [
      "[A] Dec: -73, Hex: ffffffb7, Unsigned: 4294967223\n",
      "[B] Dec: 31337, Hex: 7a69, Unsigned: 31337\n",
      "[field width on B] 3: '31337', 10: '     31337', '00031337'\n",
      "[string] sample  Address 0x7fff5c15086e\n",
      "variable A is at address: 0x7fff5c150868\n"
     ]
    }
   ],
   "source": [
    "// fmt_strings.c\n",
    "\n",
    "#include <stdio.h>\n",
    "#include <string.h>\n",
    "\n",
    "int main() {\n",
    "   char string[10];\n",
    "   int A = -73;\n",
    "   unsigned int B = 31337;\n",
    "\n",
    "   strcpy(string, \"sample\");\n",
    "\n",
    "   // Example of printing with different format string\n",
    "   printf(\"[A] Dec: %d, Hex: %x, Unsigned: %u\\n\", A, A, A);\n",
    "   printf(\"[B] Dec: %d, Hex: %x, Unsigned: %u\\n\", B, B, B);\n",
    "   printf(\"[field width on B] 3: '%3u', 10: '%10u', '%08u'\\n\", B, B, B);\n",
    "   printf(\"[string] %s  Address %p\\n\", string, string);\n",
    "\n",
    "   // Example of unary address operator (dereferencing) and a %x format string\n",
    "   printf(\"variable A is at address: %p\\n\", &A);\n",
    "}"
   ]
  },
  {
   "cell_type": "markdown",
   "metadata": {},
   "source": [
    "## The Format String Vulnerability\n",
    "- using `printf(string)` instead of `printf(\"%s\", string)`"
   ]
  },
  {
   "cell_type": "code",
   "execution_count": 7,
   "metadata": {},
   "outputs": [
    {
     "name": "stderr",
     "output_type": "stream",
     "text": [
      "/var/folders/4f/1pkkv7h960j42p0ppgk9n4ywjr6t_b/T/tmp1fm3cgew.c:22:11: warning: format string is not a string literal (potentially insecure) [-Wformat-security]\n",
      "   printf(text);\n",
      "          ^~~~\n",
      "/var/folders/4f/1pkkv7h960j42p0ppgk9n4ywjr6t_b/T/tmp1fm3cgew.c:22:11: note: treat the string as an argument to avoid this\n",
      "   printf(text);\n",
      "          ^\n",
      "          \"%s\", \n",
      "/var/folders/4f/1pkkv7h960j42p0ppgk9n4ywjr6t_b/T/tmp1fm3cgew.c:27:50: warning: format specifies type 'unsigned int' but the argument has type 'int *' [-Wformat]\n",
      "   printf(\"[*] test_val @ 0x%08x = %d 0x%08x\\n\", &test_val, test_val, test_val);\n",
      "                            ~~~~                 ^~~~~~~~~\n",
      "2 warnings generated.\n"
     ]
    },
    {
     "name": "stdout",
     "output_type": "stream",
     "text": [
      "Usage: /var/folders/4f/1pkkv7h960j42p0ppgk9n4ywjr6t_b/T/tmpo7k8lmsi.out <text to print>\n"
     ]
    }
   ],
   "source": [
    "// fmt_vuln.c\n",
    "#include <stdio.h>\n",
    "#include <stdlib.h>\n",
    "#include <string.h>\n",
    "\n",
    "int main(int argc, char *argv[]) {\n",
    "   char text[1024];\n",
    "   static int test_val = -72;\n",
    "\n",
    "   if(argc < 2) {\n",
    "      printf(\"Usage: %s <text to print>\\n\", argv[0]);\n",
    "      exit(0);\n",
    "   }\n",
    "   \n",
    "   strcpy(text, argv[1]);\n",
    "\n",
    "   printf(\"The right way to print user-controlled input:\\n\");\n",
    "   printf(\"%s\", text);\n",
    "\n",
    "\n",
    "   printf(\"\\nThe wrong way to print user-controlled input:\\n\");\n",
    "   printf(text);\n",
    "\n",
    "   printf(\"\\n\");\n",
    "\n",
    "   // Debug output\n",
    "   printf(\"[*] test_val @ 0x%08x = %d 0x%08x\\n\", &test_val, test_val, test_val);\n",
    "\n",
    "   exit(0);\n",
    "}"
   ]
  },
  {
   "cell_type": "code",
   "execution_count": 10,
   "metadata": {},
   "outputs": [
    {
     "name": "stderr",
     "output_type": "stream",
     "text": [
      "/var/folders/4f/1pkkv7h960j42p0ppgk9n4ywjr6t_b/T/tmpzm6rel_f.c:1:1: error: expected identifier or '('\n",
      "! gcc -o fmt_vuln.exe booksrc/fmt_vuln.c\n",
      "^\n",
      "1 error generated.\n",
      "[C kernel] GCC exited with code 1, the executable will not be executed"
     ]
    }
   ],
   "source": [
    "! gcc -o fmt_vuln.exe booksrc/fmt_vuln.c\n",
    "sudo chown root:root ./fmt_vuln.exe\n",
    "sudo chmod u+s ./fmt_vuln\n",
    "./fmt_vuln"
   ]
  },
  {
   "cell_type": "code",
   "execution_count": null,
   "metadata": {},
   "outputs": [],
   "source": []
  }
 ],
 "metadata": {
  "kernelspec": {
   "display_name": "C",
   "language": "c",
   "name": "c"
  },
  "language_info": {
   "file_extension": ".c",
   "mimetype": "text/plain",
   "name": "c"
  }
 },
 "nbformat": 4,
 "nbformat_minor": 2
}
