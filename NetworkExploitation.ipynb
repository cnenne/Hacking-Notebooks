{
 "cells": [
  {
   "cell_type": "markdown",
   "metadata": {},
   "source": [
    "# Networking\n",
    "- computer networks are so ubiquitous that they're taken for granted\n",
    "- we're constantly connected to Internet and use applications that rely on networking\n",
    "    - email, social media, the Web\n",
    "- these applications rely on a particular network protocol, but each protocol uses the same general network transport methods\n",
    "- there are vulnerabilities in the networking protocols themselves and on systems and applications running on the network"
   ]
  },
  {
   "cell_type": "markdown",
   "metadata": {},
   "source": [
    "## OSI Model\n",
    "- Open Systems Interconnection model\n",
    "- governs the language used by systems in the network to talk to each other\n",
    "- the structure of the language is described in 7 layers by the OSI model\n",
    "- the conceptual layers make it easier for different network devices (routers, switches, firewalls) and applications (Web, email) to focus on their respective layers and ignore the others\n",
    "\n",
    "### OSI layers\n",
    "<img src=\"./resources/OSIModel.png\">\n",
    "\n",
    "1. **Physical layer** \n",
    "    - lowest layer that deals with the physical connection between two points\n",
    "    - responsible for activating, maintaining, and deactivating these bit-stream communications\n",
    "    - Ethernet card and cable, WiFi Card belong to this layer\n",
    "- **Data-link layer**\n",
    "    - deals with transferring data providing high-level functions (error correction and flow control)\n",
    "    - provides procedures for activating, maintaining, and deactivating data-link connections\n",
    "    - ARP (Address Resoultion Protocol) is a common protocol that uses this layer\n",
    "    - Ehternet switches are network devices that use Layer 2 protocol\n",
    "- **Network layer**\n",
    "    - works as the middle ground\n",
    "    - primarily role is to pass information between the lower and the higher layers\n",
    "    - provides addressing (IP) and routing between two different networks\n",
    "    - most routers and layer-3 switches are primarily use this layer\n",
    "- **Transport layer**\n",
    "    - provides transparent transfer of data between systems\n",
    "    - provides reliable data communication, so the higher layers do not have to worry about reliability or cost-effectiveness of data transmission\n",
    "    - TCP, UDP and ICMP are commonly used protocols of this layer\n",
    "- **Session layer**\n",
    "    - responsible for establishing and maintaining connections between network applications\n",
    "- **Presentation layer**\n",
    "    - responsible for presenting the data to applications in a syntax or language they understand\n",
    "    - supports things like encryptiong, data compressions, image file (GIF, JPG) etc.\n",
    "- **Application layer**\n",
    "    - the layer users interact with\n",
    "    - concerned with keeping track of the requirements of the application\n",
    "    - HTTP, FTP, SMTP, SSH, Telnet are some protocols used in this layer\n",
    "    \n",
    "### Packet Encapsulation\n",
    "- starting from the application layer, the packet wraps the presentation layer around the data, which wraps the session layer, which wraps the transport layer, and so forth\n",
    "<img src=\"./resources/PacketEncapsulation.png\">\n",
    "\n",
    "## Sockets\n",
    " - standard way to perform network communications through the OS\n",
    " - socket API takes care of OSI details\n",
    " - in C, sockets behave a lot like files where you use read() and write() to receive and send data\n",
    " - /usr/includesys/sockets.h provide a bunch of functions to work with sockets\n",
    " - socket(), connect(), bind(), listen(), accept(), send(), recv()\n",
    " - we'll use Scapy python library to create packets with various protocol types and send across networks\n",
    "     - we'll use these notebooks to learn scapy: https://github.com/rambasnet/ScapyNotebooks\n",
    "     "
   ]
  },
  {
   "cell_type": "markdown",
   "metadata": {},
   "source": [
    "## A Simple Server Example\n",
    "- a server that listens for TCP connection on port 7890\n",
    "- when a client connects it sends a message *Hello World!* and receives data until connection is closed\n",
    "- booksrc/simple_server.c and booksrc/hacking.h are the two files required to build the simple server\n",
    "- $ g++ simple_server.c -o simple_server.exe\n",
    "- $ ./simple_server.exe\n",
    "- $ telnet 127.0.0.1 7890"
   ]
  },
  {
   "cell_type": "markdown",
   "metadata": {},
   "source": [
    "! telnet 127.0.0.1 7890"
   ]
  },
  {
   "cell_type": "markdown",
   "metadata": {},
   "source": [
    "## A Tinyweb Server\n",
    "- similar to simple server but uses HTTP protocol to communicate\n",
    "- source to compile - booksrc/tinyweb.c\n",
    "- handles HTTP GET and HEAD requests\n",
    "- looks for the requested resource in the local directory callled webroot and send it to the browser\n",
    "- if the file can't be found, the server will respond with 404 HTTP (`File Not Found`) response\n",
    "- compile tinyweb.c, setuid as root and run the server\n",
    "- \n",
    "- **Note** Change PORT # to 8080 or something higher if port 80 is being used\n",
    "````bash\n",
    "$ compile.sh tinyweb.c tinyweb.exe\n",
    "$ sudo chown root ./tinyweb.exe\n",
    "$ sudo chmod u+s ./tinyweb.exe\n",
    "$ ./tinyweb.exe\n",
    "```"
   ]
  },
  {
   "cell_type": "markdown",
   "metadata": {},
   "source": [
    "### References\n",
    "1. Understanding Layer 2, 3, and 4 Protocols - http://ptgmedia.pearsoncmg.com/images/0131014684/samplechapter/0131014684_ch02.pdf"
   ]
  },
  {
   "cell_type": "code",
   "execution_count": null,
   "metadata": {},
   "outputs": [],
   "source": []
  }
 ],
 "metadata": {
  "kernelspec": {
   "display_name": "Python 3",
   "language": "python",
   "name": "python3"
  },
  "language_info": {
   "codemirror_mode": {
    "name": "ipython",
    "version": 3
   },
   "file_extension": ".py",
   "mimetype": "text/x-python",
   "name": "python",
   "nbconvert_exporter": "python",
   "pygments_lexer": "ipython3",
   "version": "3.5.2"
  }
 },
 "nbformat": 4,
 "nbformat_minor": 2
}
